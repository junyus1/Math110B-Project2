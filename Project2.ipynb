{
 "cells": [
  {
   "cell_type": "markdown",
   "metadata": {
    "id": "_LtDgJBs0C9d"
   },
   "source": [
    "## First things first\n",
    "We review the gradient descent method learned in last quarter, for minimization of $f(x)$, the Gradient Descent (GD) iteration is \n",
    "$$x_{k+1} = x_k - \\alpha_k \\nabla f(x_k)$$\n",
    "with $\\alpha_k$ the chosen step length, usually a backtracking type loop is associated for the choice of $\\alpha_k$. \n",
    "\n"
   ]
  },
  {
   "cell_type": "markdown",
   "metadata": {
    "id": "9f2jq6a-0qhc"
   },
   "source": [
    "## Incremental GD\n",
    "There are some variants of GD, like coordinate gradient descent or the stochastic gradient descent. Here we focus on the IGD: incremental GD, it is similar to the coordinate GD, which is dealing with something local and then deal with something else later. \n",
    "\n",
    "Suppose the problem is:\n",
    "$$\\min_x f(x) := \\sum_{i=1}^m f_i(x)$$\n",
    "the objective function is the summation of a few other objective functions. This is quite normal in real life applications. Especially the statistics and imaging science. \n",
    "\n",
    "The IGD is dealing with one of the $f_i$ with GD and then deal with others in similar manner. Suppose we have fixed an ordering $i_0, i_1, i_2, \\dots, i_k,\\dots$, this ordering is infinite or finite, the numbers are just sampled from $\\{ 1,2,\\dots, m\\}$, basically telling you an order of $f_i$ to deal with. During each iteration, we update $x_k$ by\n",
    "\n",
    "$$x_{k+1} = x_{k} - \\gamma_k \\nabla f_{i_k}(x_{k})$$\n",
    "where $\\gamma_k$ is the step length.  \n",
    "\n",
    "When the ordering is sampled uniformly from $\\{ 1,2,\\dots, m\\}$, then this method becomes **Stochastic GD**. But the ordering could be other kind or distribution, even deterministic, we will mainly focus on select a better strategy for the ordering."
   ]
  },
  {
   "cell_type": "markdown",
   "metadata": {
    "id": "-b9lGznZDwSD"
   },
   "source": [
    "## Implementation Task 1\n",
    "\n",
    "This task comes from the Section 2.1 of the reference paper.\n",
    "\n",
    "We implement the 1D example of least square problem for the IGD. Then problem is given by \n",
    "\n",
    "$$\\min_x \\frac{1}{2}\\sum_{i=1}^n (x- y_i)^2$$\n",
    "where $y_i$ is a sequence of scalars sampled with certain given mean value $\\mu$ and variance $\\sigma^2$. Following the above method, the iteration will be\n",
    "$$x_{k+1} =x_k -\\gamma_k (x_{k} - y_{i_k})$$\n",
    "where $y_{i_k}$ comes from the selected ordering.  \n",
    "\n",
    "In the first task, you need to implement the following functions. "
   ]
  },
  {
   "cell_type": "markdown",
   "metadata": {
    "id": "SUfiwv22qUma"
   },
   "source": [
    "# Random or not so random?\n",
    "\n",
    "In the project, you will study the optimization algorithms related to the randomization. For a group of random algorithms, the randomness could be improved through certain strategy. The reference for this project comes from https://arxiv.org/pdf/1202.4184.pdf . \n",
    "\n",
    "The mathematical problem discussed in the above paper is quite simple, however it provides some insights for data science, especially for linear problems. The conjecture in the paper is still an open problem in general."
   ]
  },
  {
   "cell_type": "code",
   "execution_count": 1,
   "metadata": {
    "id": "RvnjT762FadE"
   },
   "outputs": [],
   "source": [
    "# generate a vector of random numbers which obeys the given distribution.\n",
    "#\n",
    "# n: length of the vector\n",
    "# mu: mean value\n",
    "# sigma: standard deviation.\n",
    "# dist: choices for the distribution, you need to implement at least normal \n",
    "#       distribution and uniform distribution.\n",
    "#\n",
    "# For normal distribution, you can use ``numpy.random.normal`` to generate.\n",
    "# For uniform distribution, the interval to sample will be [mu - sigma/sqrt(3), mu + sigma/sqrt(3)].\n",
    "\n",
    "import numpy as np\n",
    "from math import sqrt\n",
    "def generate_random_numbers(n, mu, sigma, dist=\"normal\"):\n",
    "    # write your code here.\n",
    "    if dist == \"normal\":\n",
    "        return np.random.normal(mu, sigma, n)\n",
    "    elif dist == \"uniform\":\n",
    "        # write your code here.\n",
    "        return np.random.uniform(mu-sigma/sqrt(3), mu+sigma/sqrt(3), n)\n",
    "    else:\n",
    "        raise Exception(\"The distribution {unknown_dist} is not implemented\".format(unknown_dist=dist))\n",
    "        \n",
    "        \n",
    "# test your code:\n",
    "y_test = generate_random_numbers(5, 0, 0.1, \"normal\")"
   ]
  },
  {
   "cell_type": "markdown",
   "metadata": {
    "id": "MdytKKS9Iyd6"
   },
   "source": [
    "### Settings of the minimization problems\n",
    "Now you will setup the problem with a sampling of $y$ vector with the following two different settings:\n",
    "```\n",
    "n, mu, sigma, dist = 105, 0.5, 1.0, \"normal\"\n",
    "```\n",
    "and \n",
    "```\n",
    "n, mu, sigma, dist = 105, 0.5, 1.0, \"uniform\"\n",
    "```\n",
    "Your initial guess will be $x_0 = 0$ for both cases. The step length is taking the diminishing factor $\\gamma_k = \\frac{1}{k+1}$."
   ]
  },
  {
   "cell_type": "code",
   "execution_count": 2,
   "metadata": {
    "id": "dZQTddxHPIBB"
   },
   "outputs": [],
   "source": [
    "y1 = generate_random_numbers(105, 0.5, 1.0, \"normal\")\n",
    "y2 = generate_random_numbers(105, 0.5, 1.0, \"uniform\")"
   ]
  },
  {
   "cell_type": "markdown",
   "metadata": {
    "id": "y2r5QCRCKfql"
   },
   "source": [
    "### Two orderings to experiment with\n",
    "\n",
    "1. Random ordering with replacement\n",
    "In this case, we do not choose the fixed ordering, we sample a number in $\\{1,2,\\dots, n \\}$ each time and follow the iteration.\n",
    "\n",
    "2. Random ordering without replacement\n",
    "In this case, we do not choose the fixed ordering, we sample an ordering without replacement from $\\{1,2,\\dots, n\\}$ and then follow the iteration."
   ]
  },
  {
   "cell_type": "code",
   "execution_count": 3,
   "metadata": {
    "id": "G-BDbTsMPT7I"
   },
   "outputs": [],
   "source": [
    "# IGD, the ordering is permitted to have replacement. \n",
    "#\n",
    "#\n",
    "def IGD_wr_task1(y):\n",
    "    n = len(y)\n",
    "    ordering = np.random.choice(n, n, replace=True)\n",
    "    # implement the algorithm's iteration of IGD. Your result should return the the final xk\n",
    "    # at the last iteration and also the history of objective function at each xk.\n",
    "    obj = []\n",
    "    cur_obj = 0 \n",
    "    x = 0\n",
    "    \n",
    "    for i in range(n):\n",
    "      cur_obj = cur_obj + 0.5*(x-y[ordering[i]])**2\n",
    "      x = x -(x-y[ordering[i]])/(i+1)\n",
    "      obj.append(cur_obj)                          \n",
    "    return x, obj\n",
    "\n",
    "\n",
    "\n",
    "# IGD, the ordering is not permitted to have replacement.\n",
    "#\n",
    "#\n",
    "def IGD_wo_task1(y):\n",
    "    n = len(y)\n",
    "    ordering = np.random.choice(n, n, replace=False)\n",
    "    # implement the algorithm's iteration of IGD. Your result should return the the final xk\n",
    "    # at the last iteration and also the history of objective function at each xk.\n",
    "    obj = []\n",
    "    cur_obj = 0 \n",
    "    x = 0\n",
    "    \n",
    "    for i in range(n):\n",
    "      cur_obj = cur_obj + 0.5*(x-y[ordering[i]])**2\n",
    "      x = x -(x-y[ordering[i]])/(i+1)\n",
    "      obj.append(cur_obj)                          \n",
    "    return x, obj"
   ]
  },
  {
   "cell_type": "markdown",
   "metadata": {
    "id": "06UQih7YWvN8"
   },
   "source": [
    "### Your results to present\n",
    "Show your results by plotting two figures. For each cases of the above two settings, you need to plot the histories (``IGD_wr_task1`` and ``IGD_wo_task1``) of objective functions in the same figure. \n",
    "\n",
    "Conclude which strategy is better from the results. \n",
    "\n",
    "Briefly prove the ``IGD_wo_task1`` must converge to the true solution (mean value of ``y``). You can calculate first a few values of $x_k$ by hand to see why."
   ]
  },
  {
   "cell_type": "markdown",
   "metadata": {
    "id": "gPIwU49fRBi_"
   },
   "source": [
    "Firstly, we prove that ``IGD_wo_task1`` must converge to the true solution (mean value of ``y``). Note if taken without replacement and start from $$x_0=0$$, we have $$x_k = \\frac{1}{n}\\sum_{i=1}^n y_{ik}$$\n",
    "And by central limit theorem, $\\frac{1}{n}\\sum_{i=1}^n y_{ik}$ converges to $\\mu$ as n approaches infinity"
   ]
  },
  {
   "cell_type": "code",
   "execution_count": 4,
   "metadata": {
    "colab": {
     "base_uri": "https://localhost:8080/",
     "height": 313
    },
    "id": "FAYdXFgsbC82",
    "outputId": "150809b4-0f08-4cfa-dc27-670e83a9517d"
   },
   "outputs": [
    {
     "name": "stdout",
     "output_type": "stream",
     "text": [
      "the final xk for IGD_wr_task1 on y1 is: 0.4232107504992117\n",
      "the final xk for IGD_wo_task1 on y1 is: 0.46376606129832154\n"
     ]
    },
    {
     "data": {
      "image/png": "[encoded data removed]",
      "text/plain": [
       "<Figure size 432x288 with 1 Axes>"
      ]
     },
     "metadata": {
      "needs_background": "light"
     },
     "output_type": "display_data"
    }
   ],
   "source": [
    "import matplotlib.pyplot as plt\n",
    "# plot normal distribution\n",
    "xkr1, objr1 = IGD_wr_task1(y1)\n",
    "xko1, objo1 = IGD_wo_task1(y1)\n",
    "print('the final xk for IGD_wr_task1 on y1 is: {}'.format(xkr1))\n",
    "print('the final xk for IGD_wo_task1 on y1 is: {}'.format(xko1))\n",
    "plt.plot([i for i in range(len(y1))], objr1, c='blue', label='with replacement')\n",
    "plt.plot([i for i in range(len(y1))], objo1, c='red', label = 'without replacement')\n",
    "plt.xlabel(\"number of iterations\")\n",
    "plt.ylabel(\"least square objective function\")\n",
    "plt.legend(loc='upper left')\n",
    "plt.show()\n",
    "\n"
   ]
  },
  {
   "cell_type": "markdown",
   "metadata": {
    "id": "ppsPReHH_PB9"
   },
   "source": [
    "From the above graph, we can see that without replacement converges faster. Note that we did not divide n, the number of iterations, in our objective function, so the objective function seems increasing. "
   ]
  },
  {
   "cell_type": "code",
   "execution_count": 5,
   "metadata": {
    "colab": {
     "base_uri": "https://localhost:8080/",
     "height": 314
    },
    "id": "zSCePGX_AQJg",
    "outputId": "a696b8be-01fc-443f-8882-36919cdb868f"
   },
   "outputs": [
    {
     "name": "stdout",
     "output_type": "stream",
     "text": [
      "the final xk for IGD_wr_task1 on y2 is: 0.46887358960492087\n",
      "the final xk for IGD_wo_task1 on y2 is: 0.5110115822801994\n"
     ]
    },
    {
     "data": {
      "image/png": "[encoded data removed]",
      "text/plain": [
       "<Figure size 432x288 with 1 Axes>"
      ]
     },
     "metadata": {
      "needs_background": "light"
     },
     "output_type": "display_data"
    }
   ],
   "source": [
    "import matplotlib.pyplot as plt\n",
    "# plot uniform distribution\n",
    "xkr2, objr2 = IGD_wr_task1(y2)\n",
    "xko2, objo2 = IGD_wo_task1(y2)\n",
    "print('the final xk for IGD_wr_task1 on y2 is: {}'.format(xkr2))\n",
    "print('the final xk for IGD_wo_task1 on y2 is: {}'.format(xko2))\n",
    "plt.plot([i for i in range(len(y2))], objr2, c='blue', label='with replacement')\n",
    "plt.plot([i for i in range(len(y2))], objo2, c='red', label = 'without replacement')\n",
    "plt.xlabel(\"number of iterations\")\n",
    "plt.ylabel(\"least square objective function\")\n",
    "plt.legend(loc='upper left')\n",
    "plt.show()"
   ]
  },
  {
   "cell_type": "markdown",
   "metadata": {
    "id": "kBqjM1ZKA-aC"
   },
   "source": [
    "### Conclusion\n",
    "Again, we can see that without replacement converges faster."
   ]
  },
  {
   "cell_type": "markdown",
   "metadata": {
    "id": "QdgVbXHHXe8-"
   },
   "source": [
    "## Implementation Task 2\n",
    "\n",
    "This task comes from the Section 2.1 of the reference paper as well. \n",
    "\n",
    "Instead of the problem in Task 1, we consider another problem, which is quite simple.\n",
    "\n",
    "$$\\min_x \\frac{1}{2}\\sum_{i=1}^n \\beta_i (x - y)^2$$\n",
    "here $\\beta_i$ are positive weights, $y$ is a scalar. Clearly the minimum is at $x = y$. We try to use the IGD to solve the problem. \n",
    "\n",
    "$$x_{k+1} = x_k - \\gamma_k \\beta_{i_k} (x_k - y)$$\n",
    "\n",
    "where $\\gamma_k\\equiv \\gamma = 0.95 \\min \\beta_i^{-1}$. For simplicity, the $\\beta_i$ are sampled uniformly between $[1,2]$. Your task2 is the same as the task1,  use two kinds of ordering to solve the problem and compare the results through figures."
   ]
  },
  {
   "cell_type": "code",
   "execution_count": 6,
   "metadata": {
    "id": "MGc2gHijps0F"
   },
   "outputs": [],
   "source": [
    "# IGD, the ordering is permitted to have replacement. \n",
    "#\n",
    "#\n",
    "import random\n",
    "def IGD_wr_task2(beta, y=0.5):\n",
    "    n = len(beta)\n",
    "    ordering = np.random.choice(n, n, replace=True)\n",
    "    # implement the algorithm's iteration of IGD. Your result should return the the final xk\n",
    "    # at the last iteration and also the history of objective function at each xk.\n",
    "    obj = []\n",
    "    cur_obj = 0 \n",
    "    x = 0\n",
    "    for i in range(n):\n",
    "      cur_obj = cur_obj + 0.5*beta[ordering[i]]*(x-y)**2\n",
    "      x = x -beta[ordering[i]]*(x-y)*0.95\n",
    "      obj.append(cur_obj)                          \n",
    "    return x, obj\n",
    "\n",
    "\n",
    "# IGD, the ordering is not permitted to have replacement.\n",
    "#\n",
    "#\n",
    "def IGD_wo_task2(beta, y=0.5):\n",
    "    n = len(beta)\n",
    "    ordering = np.random.choice(n, n, replace=False)\n",
    "    # implement the algorithm's iteration of IGD. Your result should return the the final xk\n",
    "    # at the last iteration and also the history of objective function at each xk.\n",
    "    obj = []\n",
    "    cur_obj = 0 \n",
    "    x = 0\n",
    "    for i in range(n):\n",
    "      cur_obj = cur_obj + 0.5*beta[ordering[i]]*(x-y)**2\n",
    "      x = x -beta[ordering[i]]*(x-y)*0.95\n",
    "      obj.append(cur_obj)                          \n",
    "    return x, obj"
   ]
  },
  {
   "cell_type": "markdown",
   "metadata": {
    "id": "UET_B4Usqy7e"
   },
   "source": [
    "### Your results to present\n",
    "Show your results by plotting two figures. For each cases of the above two settings, you need to plot the histories (``IGD_wr_task2`` and ``IGD_wo_task2``) of objective functions in the same figure. \n",
    "\n",
    "Conclude which strategy is better from the results. "
   ]
  },
  {
   "cell_type": "code",
   "execution_count": 7,
   "metadata": {
    "colab": {
     "base_uri": "https://localhost:8080/",
     "height": 313
    },
    "id": "tftp430_GcRb",
    "outputId": "7376414f-cafd-44fa-be2a-60df51e08fec"
   },
   "outputs": [
    {
     "name": "stdout",
     "output_type": "stream",
     "text": [
      "the final xk for IGD_wr_task2 on beta is: 0.499937988684532\n",
      "the final xk for IGD_wo_task2 on beta is: 0.49999745716039395\n"
     ]
    },
    {
     "data": {
      "image/png": "[encoded data removed]",
      "text/plain": [
       "<Figure size 432x288 with 1 Axes>"
      ]
     },
     "metadata": {
      "needs_background": "light"
     },
     "output_type": "display_data"
    }
   ],
   "source": [
    "beta = generate_random_numbers(10, 1, 2, \"uniform\")\n",
    "import matplotlib.pyplot as plt\n",
    "xkr3, objr3 = IGD_wr_task2(beta)\n",
    "xko3, objo3 = IGD_wo_task2(beta)\n",
    "print('the final xk for IGD_wr_task2 on beta is: {}'.format(xkr3))\n",
    "print('the final xk for IGD_wo_task2 on beta is: {}'.format(xko3))\n",
    "plt.plot([i for i in range(len(beta))], objr3, c='blue', label='with replacement')\n",
    "plt.plot([i for i in range(len(beta))], objo3, c='red', label = 'without replacement')\n",
    "plt.xlabel(\"number of iterations\")\n",
    "plt.ylabel(\"least square objective function\")\n",
    "plt.legend(loc='upper left')\n",
    "plt.show()\n"
   ]
  },
  {
   "cell_type": "markdown",
   "metadata": {
    "id": "sSO_I1V2IAu1"
   },
   "source": [
    "### Conclusion\n",
    "\n",
    "As we can see without replacement converges faster. Also we point out some error in the skeleton code, since we are sampling beta and treat y as scalar constant, we really should take beta array as input instead of y array in the function IGD_wr_task2 and IGD_wo_task2"
   ]
  },
  {
   "cell_type": "markdown",
   "metadata": {
    "id": "4FZfrQ0wrNvH"
   },
   "source": [
    "## Implementation Task 3\n",
    "\n",
    "Now instead of 1D problem considered in above two tasks, we will consider the general case in higher dimensions, we study the least square problem to find solution of \n",
    "$$Ax = y$$\n",
    "where $A$ is an $m\\times n$ matrix and $x$ is a vector in $\\mathbb{R}^n$. In most cases, $m \\ge n$ which means the measurement is redundant for this linear model.  We denote the $i$th column $A^T$ as $a_i$ (namely the $i$th row of $A$ transposed), then we are minimizing\n",
    "\n",
    "$$\\min_x \\sum_{i=1}^m (a_i^T x - y_i)^2$$\n",
    "each $a_i\\in\\mathbb{R}^n$. \n",
    "\n",
    "And using IGD to minimize above problem with certain ordering. The step size $\\gamma$ is  taken as a fixed constant, say $10^{-3}$, which is a common value for GD. \n",
    "\n",
    "Each iteration will be \n",
    "\n",
    "$$x_{k+1} = x_k - \\gamma a_{i_k} (a_{i_k}^T x_{k} - y_{i_k})$$\n",
    "\n",
    "Your initial guess is still all zeros vector. \n"
   ]
  },
  {
   "cell_type": "markdown",
   "metadata": {
    "id": "jevXn5siy2lq"
   },
   "source": [
    "### Generation of $y$\n",
    "The $y$ vector is generated by taking the following form\n",
    "$$y_i = a_i^T x^{\\ast} + w_i$$\n",
    "where $w_i$ obeys normal distribution of zero mean and variance of $\\rho^2$, here $\\rho = 10^{-2}$. "
   ]
  },
  {
   "cell_type": "code",
   "execution_count": 8,
   "metadata": {
    "id": "m4dVvD5czPTP"
   },
   "outputs": [],
   "source": [
    "# generation of exact solution and data y and matrix A.\n",
    "\n",
    "def generate_problem_task3(m, n, rho):\n",
    "    A = np.random.normal(0., 1.0, (m, n))\n",
    "    x = np.random.random(n) # uniform in (0,1)\n",
    "    w = np.random.normal(0., rho, m)\n",
    "    y = A@x + w\n",
    "    return A, x, y"
   ]
  },
  {
   "cell_type": "code",
   "execution_count": 9,
   "metadata": {
    "id": "xit131efzd09"
   },
   "outputs": [],
   "source": [
    "# We generate the problem with 200x100 matrix. rho as 0.01.\n",
    "#\n",
    "A, xstar, y = generate_problem_task3(200, 100, 0.01)"
   ]
  },
  {
   "cell_type": "code",
   "execution_count": null,
   "metadata": {
    "id": "l1Nqy2TFLTy7"
   },
   "outputs": [],
   "source": []
  },
  {
   "cell_type": "code",
   "execution_count": 10,
   "metadata": {
    "id": "JmrxUfiHCacQ"
   },
   "outputs": [],
   "source": [
    "# In these two functions, we could only focus on the first n steps and try to make comparisons on these data only.\n",
    "# In practice, it requires more iterations to converge, due to the matrix might not be easy to deal with.\n",
    "# You can put the ordering loop into a naive loop: namely, we simply perform the IGD code several rounds.\n",
    "#\n",
    "#\n",
    "#\n",
    "# IGD, the ordering is permitted to have replacement. \n",
    "#\n",
    "#\n",
    "def IGD_wr_task3(y, A):\n",
    "    # implement the algorithm's iteration of IGD. Your result should return the the final xk\n",
    "    # at the last iteration and also the history of objective function at each xk.\n",
    "    obj = []\n",
    "    cur_obj = 0\n",
    "    m = A.shape[0]\n",
    "    n = A.shape[1] \n",
    "    x = np.zeros(n)\n",
    "    ordering = np.random.choice(m, m, replace=True)\n",
    "    for i in range(m):\n",
    "      cur_obj = cur_obj + (A[ordering[i]]@x - y[ordering[i]])**2\n",
    "      x = x -0.001*(A[ordering[i]]@x - y[ordering[i]])*A[ordering[i]]\n",
    "      obj.append(cur_obj)                          \n",
    "    return x, obj\n",
    "\n",
    "\n",
    "# IGD, the ordering is not permitted to have replacement.\n",
    "#\n",
    "#\n",
    "def IGD_wo_task3(y, A):\n",
    "    # implement the algorithm's iteration of IGD. Your result should return the the final xk\n",
    "    # at the last iteration and also the history of objective function at each xk.\n",
    "    obj = []\n",
    "    cur_obj = 0\n",
    "    m = A.shape[0]\n",
    "    n = A.shape[1] \n",
    "    x = np.zeros(n)\n",
    "    ordering = np.random.choice(m, m, replace=False)\n",
    "    for i in range(m):\n",
    "      cur_obj = cur_obj + (A[ordering[i]]@x - y[ordering[i]])**2\n",
    "      x = x -0.001*(A[ordering[i]]@x - y[ordering[i]])*A[ordering[i]]\n",
    "      obj.append(cur_obj)                          \n",
    "    return x, obj"
   ]
  },
  {
   "cell_type": "markdown",
   "metadata": {
    "id": "CJ9-S1GZFiVJ"
   },
   "source": [
    "### Your results to present\n",
    "Show your results by plotting two figures. For each cases of the above two settings, you need to plot the histories (``IGD_wr_task3`` and ``IGD_wo_task3``) of objective functions in the same figure.  \n",
    "\n",
    "Then change your code to plot the histories of $\\|x_k - x^{\\ast }\\|$ and compare the results about the convergences.\n",
    "\n",
    "Conclude which strategy is better from the results. "
   ]
  },
  {
   "cell_type": "code",
   "execution_count": 11,
   "metadata": {
    "colab": {
     "base_uri": "https://localhost:8080/",
     "height": 857
    },
    "id": "4Xd_QYrWMrY7",
    "outputId": "75aa3f6b-bae5-4776-ee93-15567087ef83"
   },
   "outputs": [
    {
     "name": "stdout",
     "output_type": "stream",
     "text": [
      "the final xk for IGD_wr_task3 is: [ 0.2163354   0.02680734 -0.0238111   0.03284588 -0.04099338  0.11711889\n",
      " -0.01304065  0.03243455  0.11990516  0.11333299  0.25080472 -0.05820745\n",
      "  0.01312154  0.05154318  0.26065101 -0.00263984  0.17689248  0.09043861\n",
      " -0.05569399  0.19773996 -0.07337949 -0.01748103  0.21909872  0.05050804\n",
      "  0.11515315  0.04620958  0.10339667  0.04882235  0.14994324  0.1391521\n",
      " -0.01170195  0.19856939 -0.13878617 -0.05135652  0.09488287 -0.12318527\n",
      "  0.02627014  0.09569417  0.10706433  0.18972625 -0.11450023  0.11228897\n",
      "  0.0262634   0.06957034  0.16061934  0.15130827  0.04721615  0.09627956\n",
      "  0.03552493  0.12539037  0.209755   -0.22266956 -0.00751969  0.07292016\n",
      " -0.04122241  0.16168872  0.25864377  0.04396442 -0.06308813  0.14722533\n",
      "  0.19337326  0.18658151  0.19825977  0.14225464  0.11106579  0.08622116\n",
      "  0.14023269  0.03203099  0.06187005  0.138677    0.19243527  0.06968011\n",
      "  0.11015089  0.24808289  0.12146016  0.01333466 -0.21881585 -0.18728291\n",
      "  0.11119582  0.07742475  0.07117908  0.14965753  0.11526864  0.01894695\n",
      " -0.06116486  0.09730858  0.18560141  0.1535936   0.06879548  0.07668785\n",
      "  0.12262326  0.01452795  0.06439497  0.00583401 -0.07741164  0.28227607\n",
      "  0.00840123  0.19499508  0.21382497  0.02390691]\n",
      "the final xk for IGD_wo_task3 is: [ 0.15215665  0.01847202 -0.03799927  0.10617852 -0.00582729  0.19904699\n",
      " -0.010803   -0.00992514  0.1952743   0.18013551  0.21780894 -0.05189821\n",
      "  0.02729778  0.14095325  0.2179001   0.0959909   0.16617042  0.07385639\n",
      "  0.0359567   0.18355919 -0.01724821  0.12440012  0.17912245  0.11622476\n",
      "  0.18985149  0.02615669  0.15878221  0.07913344  0.14884527  0.13025542\n",
      "  0.03703643  0.27048626 -0.11025724 -0.09238459  0.04588629 -0.04215169\n",
      "  0.12341338  0.13609359  0.08658235  0.13527305 -0.05915071  0.10166571\n",
      "  0.07629434  0.08438023  0.16662982  0.13099313  0.12222797  0.1819201\n",
      "  0.03704866  0.03563164  0.08013859 -0.13529443  0.01172656  0.14665389\n",
      " -0.05253456  0.16854996  0.12540214  0.09103211  0.0110662   0.1349065\n",
      "  0.07491487  0.07431115  0.19517331  0.07617823  0.13842318  0.14148695\n",
      "  0.01108457  0.04018813  0.03448972  0.17315174  0.21848899  0.05280804\n",
      "  0.11596515  0.21149593  0.17696895 -0.02289894 -0.10417513 -0.02459541\n",
      "  0.0651343   0.07449382  0.14782141  0.16475917  0.09446063  0.05807081\n",
      " -0.04151438  0.18265151  0.12504651  0.05837073  0.05260307  0.07060425\n",
      "  0.20504019  0.02764829  0.11951756  0.0767808  -0.04949729  0.18950491\n",
      "  0.11181209  0.13918757  0.21049077  0.11269173]\n"
     ]
    },
    {
     "data": {
      "image/png": "[encoded data removed]",
      "text/plain": [
       "<Figure size 432x288 with 1 Axes>"
      ]
     },
     "metadata": {
      "needs_background": "light"
     },
     "output_type": "display_data"
    }
   ],
   "source": [
    "import matplotlib.pyplot as plt\n",
    "x_trainr, objr = IGD_wr_task3(y, A)\n",
    "x_traino, objo = IGD_wo_task3(y, A)\n",
    "print('the final xk for IGD_wr_task3 is: {}'.format(x_trainr))\n",
    "print('the final xk for IGD_wo_task3 is: {}'.format(x_traino))\n",
    "plt.plot([i for i in range(A.shape[0])], objr, c='blue', label='with replacement')\n",
    "plt.plot([i for i in range(A.shape[0])], objo, c='red', label = 'without replacement')\n",
    "plt.xlabel(\"number of iterations\")\n",
    "plt.ylabel(\"least square objective function\")\n",
    "plt.legend(loc='upper left')\n",
    "plt.show()"
   ]
  },
  {
   "cell_type": "markdown",
   "metadata": {
    "id": "ydw0_3pPOpfr"
   },
   "source": [
    "As we can see the without replacement converges faster. (Has a lower objective). Now we plot the norm of the residue:\n"
   ]
  },
  {
   "cell_type": "code",
   "execution_count": 12,
   "metadata": {
    "colab": {
     "base_uri": "https://localhost:8080/",
     "height": 857
    },
    "id": "bB0rWqdeNYix",
    "outputId": "5e0d175f-b345-41e9-faa7-b5f3b4390943"
   },
   "outputs": [
    {
     "name": "stdout",
     "output_type": "stream",
     "text": [
      "the final xk for IGD_wr_task3 is: [ 0.15484725  0.0037581  -0.09254768  0.04726538 -0.07389921  0.16698974\n",
      "  0.11663664 -0.05074462  0.19205253  0.32069931  0.1537464  -0.18464159\n",
      " -0.02784845  0.21602534  0.26187886  0.09606805  0.23375203  0.03902965\n",
      " -0.04891495  0.29488205 -0.02143243  0.16223924  0.27547838  0.08603502\n",
      "  0.25549153 -0.0679406   0.14724544  0.10291942  0.2286485   0.18794596\n",
      "  0.09719993  0.35034105 -0.1288523  -0.08916855  0.00403952  0.03077806\n",
      "  0.1435998   0.14420953  0.07016056  0.16464412 -0.18692565 -0.00935138\n",
      "  0.13508501 -0.04652009  0.15354824  0.10406635  0.08036551  0.06475248\n",
      "  0.04149879  0.05106955  0.01061599 -0.27957475  0.03916526  0.17510083\n",
      " -0.02489901  0.14988806  0.1656613   0.11345137 -0.01243923  0.12577428\n",
      "  0.14126023  0.01081893  0.28956859  0.03886414  0.09993257  0.16965393\n",
      "  0.07437586  0.03673095 -0.01261403  0.1542327   0.19578941  0.02100438\n",
      "  0.11333023  0.25909858  0.19227822  0.02765577 -0.15041317 -0.08957717\n",
      "  0.00988324  0.1930978   0.1849516   0.18076284  0.11515435  0.07263512\n",
      "  0.04857039  0.21914993  0.1008807  -0.01236821  0.11273443  0.12168367\n",
      "  0.18152346  0.00866947  0.19988766  0.23785686 -0.03902476  0.22742563\n",
      "  0.10741995  0.09683163  0.31307673  0.28673288]\n",
      "the final xk for IGD_wo_task3 is: [ 0.14418607  0.01227893 -0.02304159  0.10184457 -0.0027097   0.19585718\n",
      " -0.01400076 -0.02031034  0.18992679  0.18202127  0.21417173 -0.03746836\n",
      "  0.03032531  0.136466    0.21694069  0.10554604  0.1674053   0.07174268\n",
      "  0.02754955  0.18962368 -0.01800517  0.12410832  0.19053511  0.12945608\n",
      "  0.19536555  0.02440103  0.15872042  0.07660427  0.15047003  0.1300211\n",
      "  0.04585607  0.26963687 -0.08692869 -0.09053029  0.05394411 -0.05709675\n",
      "  0.11383084  0.14146     0.08700599  0.14011571 -0.06111503  0.0997509\n",
      "  0.07554855  0.08183241  0.16126303  0.12447195  0.13126362  0.1855301\n",
      "  0.04234034  0.03545763  0.08034943 -0.15058749  0.0101254   0.15454351\n",
      " -0.05791042  0.17906549  0.1290759   0.09483087  0.01513832  0.13759538\n",
      "  0.06530299  0.06973272  0.19857672  0.07384959  0.13961316  0.1426081\n",
      "  0.00799057  0.05030462  0.03542444  0.16642285  0.21741912  0.04907011\n",
      "  0.10872402  0.21247244  0.17505492 -0.02924625 -0.10265321 -0.0174004\n",
      "  0.05107222  0.07756999  0.15392179  0.16901103  0.09512205  0.04839259\n",
      " -0.04951337  0.16757497  0.12085764  0.05388048  0.06425616  0.08064705\n",
      "  0.2050544   0.02470775  0.11088059  0.07667784 -0.04960638  0.19073568\n",
      "  0.10771085  0.1377175   0.19739233  0.10980002]\n"
     ]
    },
    {
     "data": {
      "image/png": "[encoded data removed]",
      "text/plain": [
       "<Figure size 432x288 with 1 Axes>"
      ]
     },
     "metadata": {
      "needs_background": "light"
     },
     "output_type": "display_data"
    }
   ],
   "source": [
    "from numpy import linalg as LA\n",
    "def IGD_wr_task3(y, A, xstar):\n",
    "    # implement the algorithm's iteration of IGD. Your result should return the the final xk\n",
    "    # at the last iteration and also the history of objective function at each xk.\n",
    "    obj = []\n",
    "    m = A.shape[0]\n",
    "    n = A.shape[1] \n",
    "    x = np.zeros(n)\n",
    "    ordering = np.random.choice(m, m, replace=True)\n",
    "    for i in range(m):\n",
    "      obj.append(LA.norm(xstar-x))\n",
    "      x = x -0.001*(A[ordering[i]]@x - y[ordering[i]])*A[ordering[i]]\n",
    "    return x, obj\n",
    "\n",
    "\n",
    "# IGD, the ordering is not permitted to have replacement.\n",
    "#\n",
    "#\n",
    "def IGD_wo_task3(y, A, xstar):\n",
    "    # implement the algorithm's iteration of IGD. Your result should return the the final xk\n",
    "    # at the last iteration and also the history of objective function at each xk.\n",
    "    obj = []\n",
    "    m = A.shape[0]\n",
    "    n = A.shape[1] \n",
    "    x = np.zeros(n)\n",
    "    ordering = np.random.choice(m, m, replace=False)\n",
    "    for i in range(m):\n",
    "      obj.append(LA.norm(xstar-x))\n",
    "      x = x -0.001*(A[ordering[i]]@x - y[ordering[i]])*A[ordering[i]]\n",
    "    return x, obj\n",
    "x_trainr, objr = IGD_wr_task3(y, A, xstar)\n",
    "x_traino, objo = IGD_wo_task3(y, A, xstar)\n",
    "print('the final xk for IGD_wr_task3 is: {}'.format(x_trainr))\n",
    "print('the final xk for IGD_wo_task3 is: {}'.format(x_traino))\n",
    "plt.plot([i for i in range(A.shape[0])], objr, c='blue', label='with replacement')\n",
    "plt.plot([i for i in range(A.shape[0])], objo, c='red', label = 'without replacement')\n",
    "plt.xlabel(\"number of iterations\")\n",
    "plt.ylabel(\"least square objective function\")\n",
    "plt.legend(loc='upper left')\n",
    "plt.show()"
   ]
  },
  {
   "cell_type": "markdown",
   "metadata": {
    "id": "eI6Xt0HyPtg3"
   },
   "source": [
    "### Conclusion\n",
    "\n",
    "As we can see, the without replacement has a faster convergence residue norm."
   ]
  }
 ],
 "metadata": {
  "colab": {
   "collapsed_sections": [],
   "name": "Copy of Ordering of Randomized Optimization.ipynb",
   "provenance": [],
   "toc_visible": true
  },
  "kernelspec": {
   "display_name": "Python 3",
   "language": "python",
   "name": "python3"
  },
  "language_info": {
   "codemirror_mode": {
    "name": "ipython",
    "version": 3
   },
   "file_extension": ".py",
   "mimetype": "text/x-python",
   "name": "python",
   "nbconvert_exporter": "python",
   "pygments_lexer": "ipython3",
   "version": "3.8.3"
  }
 },
 "nbformat": 4,
 "nbformat_minor": 1
}
