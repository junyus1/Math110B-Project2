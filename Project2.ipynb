{
 "cells": [
  {
   "cell_type": "markdown",
   "metadata": {
    "id": "_LtDgJBs0C9d"
   },
   "source": [
    "## First things first\n",
    "We review the gradient descent method learned in last quarter, for minimization of $f(x)$, the Gradient Descent (GD) iteration is \n",
    "$$x_{k+1} = x_k - \\alpha_k \\nabla f(x_k)$$\n",
    "with $\\alpha_k$ the chosen step length, usually a backtracking type loop is associated for the choice of $\\alpha_k$. \n",
    "\n"
   ]
  },
  {
   "cell_type": "markdown",
   "metadata": {
    "id": "9f2jq6a-0qhc"
   },
   "source": [
    "## Incremental GD\n",
    "There are some variants of GD, like coordinate gradient descent or the stochastic gradient descent. Here we focus on the IGD: incremental GD, it is similar to the coordinate GD, which is dealing with something local and then deal with something else later. \n",
    "\n",
    "Suppose the problem is:\n",
    "$$\\min_x f(x) := \\sum_{i=1}^m f_i(x)$$\n",
    "the objective function is the summation of a few other objective functions. This is quite normal in real life applications. Especially the statistics and imaging science. \n",
    "\n",
    "The IGD is dealing with one of the $f_i$ with GD and then deal with others in similar manner. Suppose we have fixed an ordering $i_0, i_1, i_2, \\dots, i_k,\\dots$, this ordering is infinite or finite, the numbers are just sampled from $\\{ 1,2,\\dots, m\\}$, basically telling you an order of $f_i$ to deal with. During each iteration, we update $x_k$ by\n",
    "\n",
    "$$x_{k+1} = x_{k} - \\gamma_k \\nabla f_{i_k}(x_{k})$$\n",
    "where $\\gamma_k$ is the step length.  \n",
    "\n",
    "When the ordering is sampled uniformly from $\\{ 1,2,\\dots, m\\}$, then this method becomes **Stochastic GD**. But the ordering could be other kind or distribution, even deterministic, we will mainly focus on select a better strategy for the ordering."
   ]
  },
  {
   "cell_type": "markdown",
   "metadata": {
    "id": "-b9lGznZDwSD"
   },
   "source": [
    "## Implementation Task 1\n",
    "\n",
    "This task comes from the Section 2.1 of the reference paper.\n",
    "\n",
    "We implement the 1D example of least square problem for the IGD. Then problem is given by \n",
    "\n",
    "$$\\min_x \\frac{1}{2}\\sum_{i=1}^n (x- y_i)^2$$\n",
    "where $y_i$ is a sequence of scalars sampled with certain given mean value $\\mu$ and variance $\\sigma^2$. Following the above method, the iteration will be\n",
    "$$x_{k+1} =x_k -\\gamma_k (x_{k} - y_{i_k})$$\n",
    "where $y_{i_k}$ comes from the selected ordering.  \n",
    "\n",
    "In the first task, you need to implement the following functions. "
   ]
  },
  {
   "cell_type": "markdown",
   "metadata": {
    "id": "SUfiwv22qUma"
   },
   "source": [
    "# Random or not so random?\n",
    "\n",
    "In the project, you will study the optimization algorithms related to the randomization. For a group of random algorithms, the randomness could be improved through certain strategy. The reference for this project comes from https://arxiv.org/pdf/1202.4184.pdf . \n",
    "\n",
    "The mathematical problem discussed in the above paper is quite simple, however it provides some insights for data science, especially for linear problems. The conjecture in the paper is still an open problem in general."
   ]
  },
  {
   "cell_type": "code",
   "execution_count": 69,
   "metadata": {
    "id": "RvnjT762FadE"
   },
   "outputs": [],
   "source": [
    "# generate a vector of random numbers which obeys the given distribution.\n",
    "#\n",
    "# n: length of the vector\n",
    "# mu: mean value\n",
    "# sigma: standard deviation.\n",
    "# dist: choices for the distribution, you need to implement at least normal \n",
    "#       distribution and uniform distribution.\n",
    "#\n",
    "# For normal distribution, you can use ``numpy.random.normal`` to generate.\n",
    "# For uniform distribution, the interval to sample will be [mu - sigma/sqrt(3), mu + sigma/sqrt(3)].\n",
    "\n",
    "import numpy as np\n",
    "from math import sqrt\n",
    "def generate_random_numbers(n, mu, sigma, dist=\"normal\"):\n",
    "    # write your code here.\n",
    "    if dist == \"normal\":\n",
    "        return np.random.normal(mu, sigma, n)\n",
    "    elif dist == \"uniform\":\n",
    "        # write your code here.\n",
    "        return np.random.uniform(mu-sigma/sqrt(3), mu+sigma/sqrt(3), n)\n",
    "    else:\n",
    "        raise Exception(\"The distribution {unknown_dist} is not implemented\".format(unknown_dist=dist))\n",
    "        \n",
    "        \n",
    "# test your code:"
   ]
  },
  {
   "cell_type": "markdown",
   "metadata": {},
   "source": [
    "## visualize the data to test the code"
   ]
  },
  {
   "cell_type": "markdown",
   "metadata": {},
   "source": [
    "这里不太确定怎么控制normal  pdf中点的高度和n之间的关系"
   ]
  },
  {
   "cell_type": "code",
   "execution_count": 151,
   "metadata": {
    "scrolled": true
   },
   "outputs": [
    {
     "data": {
      "image/png": "[encoded data removed]",
      "text/plain": [
       "<Figure size 432x288 with 1 Axes>"
      ]
     },
     "metadata": {
      "needs_background": "light"
     },
     "output_type": "display_data"
    }
   ],
   "source": [
    "# test your code:\n",
    "import matplotlib.pyplot as plt\n",
    "import math\n",
    "import scipy.stats as stats\n",
    "mu = 0.5\n",
    "variance = 1\n",
    "n=1000000\n",
    "y_test = generate_random_numbers(n, mu,variance , \"normal\")\n",
    "plt.hist(y_test, bins=100)\n",
    "plt.gca().set(title='Frequency Histogram', ylabel='Frequency');\n",
    "\n",
    "sigma = math.sqrt(variance)\n",
    "x = np.linspace(mu - 3*sigma, mu + 3*sigma, 100)\n",
    "plt.plot(x, stats.norm.pdf(x, mu, sigma)*0.099*n)\n",
    "plt.show()"
   ]
  },
  {
   "cell_type": "markdown",
   "metadata": {
    "id": "MdytKKS9Iyd6"
   },
   "source": [
    "### Settings of the minimization problems\n",
    "Now you will setup the problem with a sampling of $y$ vector with the following two different settings:\n",
    "```\n",
    "n, mu, sigma, dist = 105, 0.5, 1.0, \"normal\"\n",
    "```\n",
    "and \n",
    "```\n",
    "n, mu, sigma, dist = 105, 0.5, 1.0, \"uniform\"\n",
    "```\n",
    "Your initial guess will be $x_0 = 0$ for both cases. The step length is taking the diminishing factor $\\gamma_k = \\frac{1}{k+1}$."
   ]
  },
  {
   "cell_type": "code",
   "execution_count": 152,
   "metadata": {
    "id": "dZQTddxHPIBB"
   },
   "outputs": [],
   "source": [
    "y1 = generate_random_numbers(105, 0.5, 1.0, \"normal\")\n",
    "y2 = generate_random_numbers(105, 0.5, 1.0, \"uniform\")"
   ]
  },
  {
   "cell_type": "markdown",
   "metadata": {
    "id": "y2r5QCRCKfql"
   },
   "source": [
    "### Two orderings to experiment with\n",
    "\n",
    "1. Random ordering with replacement\n",
    "In this case, we do not choose the fixed ordering, we sample a number in $\\{1,2,\\dots, n \\}$ each time and follow the iteration.\n",
    "\n",
    "2. Random ordering without replacement\n",
    "In this case, we do not choose the fixed ordering, we sample an ordering without replacement from $\\{1,2,\\dots, n\\}$ and then follow the iteration."
   ]
  },
  {
   "cell_type": "code",
   "execution_count": 153,
   "metadata": {
    "id": "G-BDbTsMPT7I"
   },
   "outputs": [],
   "source": [
    "# IGD, the ordering is permitted to have replacement. \n",
    "#\n",
    "#\n",
    "def IGD_wr_task1(y):\n",
    "    n = len(y)\n",
    "    ordering = np.random.choice(n, n, replace=True)\n",
    "    # implement the algorithm's iteration of IGD. Your result should return the the final xk\n",
    "    # at the last iteration and also the history of objective function at each xk.\n",
    "    obj = []\n",
    "    cur_obj = 0 \n",
    "    x = 0\n",
    "    \n",
    "    for i in range(n):\n",
    "      cur_obj = cur_obj + 0.5*(x-y[ordering[i]])**2\n",
    "      x = x -(x-y[ordering[i]])/(i+1)\n",
    "      obj.append(cur_obj)                          \n",
    "    return x, obj\n",
    "\n",
    "\n",
    "\n",
    "# IGD, the ordering is not permitted to have replacement.\n",
    "#\n",
    "#\n",
    "def IGD_wo_task1(y):\n",
    "    n = len(y)\n",
    "    ordering = np.random.choice(n, n, replace=False)\n",
    "    # implement the algorithm's iteration of IGD. Your result should return the the final xk\n",
    "    # at the last iteration and also the history of objective function at each xk.\n",
    "    obj = []\n",
    "    cur_obj = 0 \n",
    "    x = 0\n",
    "    \n",
    "    for i in range(n):\n",
    "      cur_obj = cur_obj + 0.5*(x-y[ordering[i]])**2\n",
    "      x = x -(x-y[ordering[i]])/(i+1)\n",
    "      obj.append(cur_obj)                          \n",
    "    return x, obj"
   ]
  },
  {
   "cell_type": "markdown",
   "metadata": {
    "id": "06UQih7YWvN8"
   },
   "source": [
    "### Your results to present\n",
    "Show your results by plotting two figures. For each cases of the above two settings, you need to plot the histories (``IGD_wr_task1`` and ``IGD_wo_task1``) of objective functions in the same figure. \n",
    "\n",
    "Conclude which strategy is better from the results. \n",
    "\n",
    "Briefly prove the ``IGD_wo_task1`` must converge to the true solution (mean value of ``y``). You can calculate first a few values of $x_k$ by hand to see why."
   ]
  },
  {
   "cell_type": "markdown",
   "metadata": {
    "id": "gPIwU49fRBi_"
   },
   "source": [
    "Firstly, we prove that ``IGD_wo_task1`` must converge to the true solution (mean value of ``y``). Note if taken without replacement and start from $$x_0=0$$, we have $$x_k = \\frac{1}{n}\\sum_{i=1}^n y_{ik}$$\n",
    "And by central limit theorem, $\\frac{1}{n}\\sum_{i=1}^n y_{ik}$ converges to $\\mu$ as n approaches infinity"
   ]
  },
  {
   "cell_type": "code",
   "execution_count": 154,
   "metadata": {
    "colab": {
     "base_uri": "https://localhost:8080/",
     "height": 313
    },
    "id": "FAYdXFgsbC82",
    "outputId": "150809b4-0f08-4cfa-dc27-670e83a9517d"
   },
   "outputs": [
    {
     "name": "stdout",
     "output_type": "stream",
     "text": [
      "the final xk for IGD_wr_task1 on y1 is: 0.50734163305397\n",
      "the final xk for IGD_wo_task1 on y1 is: 0.4162916969515639\n"
     ]
    },
    {
     "data": {
      "image/png": "[encoded data removed]",
      "text/plain": [
       "<Figure size 432x288 with 1 Axes>"
      ]
     },
     "metadata": {
      "needs_background": "light"
     },
     "output_type": "display_data"
    }
   ],
   "source": [
    "import matplotlib.pyplot as plt\n",
    "# plot normal distribution\n",
    "xkr1, objr1 = IGD_wr_task1(y1)\n",
    "xko1, objo1 = IGD_wo_task1(y1)\n",
    "print('the final xk for IGD_wr_task1 on y1 is: {}'.format(xkr1))\n",
    "print('the final xk for IGD_wo_task1 on y1 is: {}'.format(xko1))\n",
    "plt.plot([i for i in range(len(y1))], objr1, c='blue', label='with replacement')\n",
    "plt.plot([i for i in range(len(y1))], objo1, c='red', label = 'without replacement')\n",
    "plt.xlabel(\"number of iterations\")\n",
    "plt.ylabel(\"least square objective function\")\n",
    "plt.legend(loc='upper left')\n",
    "plt.show()\n",
    "\n"
   ]
  },
  {
   "cell_type": "markdown",
   "metadata": {
    "id": "ppsPReHH_PB9"
   },
   "source": [
    "From the above graph, we can see that without replacement converges faster. Note that we did not divide n, the number of iterations, in our objective function, so the objective function seems increasing. "
   ]
  },
  {
   "cell_type": "code",
   "execution_count": 155,
   "metadata": {
    "colab": {
     "base_uri": "https://localhost:8080/",
     "height": 314
    },
    "id": "zSCePGX_AQJg",
    "outputId": "a696b8be-01fc-443f-8882-36919cdb868f"
   },
   "outputs": [
    {
     "name": "stdout",
     "output_type": "stream",
     "text": [
      "the final xk for IGD_wr_task1 on y2 is: 0.5312147468822354\n",
      "the final xk for IGD_wo_task1 on y2 is: 0.5013759643213919\n"
     ]
    },
    {
     "data": {
      "image/png": "[encoded data removed]",
      "text/plain": [
       "<Figure size 432x288 with 1 Axes>"
      ]
     },
     "metadata": {
      "needs_background": "light"
     },
     "output_type": "display_data"
    }
   ],
   "source": [
    "import matplotlib.pyplot as plt\n",
    "# plot uniform distribution\n",
    "xkr2, objr2 = IGD_wr_task1(y2)\n",
    "xko2, objo2 = IGD_wo_task1(y2)\n",
    "print('the final xk for IGD_wr_task1 on y2 is: {}'.format(xkr2))\n",
    "print('the final xk for IGD_wo_task1 on y2 is: {}'.format(xko2))\n",
    "plt.plot([i for i in range(len(y2))], objr2, c='blue', label='with replacement')\n",
    "plt.plot([i for i in range(len(y2))], objo2, c='red', label = 'without replacement')\n",
    "plt.xlabel(\"number of iterations\")\n",
    "plt.ylabel(\"least square objective function\")\n",
    "plt.legend(loc='upper left')\n",
    "plt.show()"
   ]
  },
  {
   "cell_type": "markdown",
   "metadata": {
    "id": "kBqjM1ZKA-aC"
   },
   "source": [
    "### Conclusion\n",
    "Again, we can see that without replacement converges faster."
   ]
  },
  {
   "cell_type": "markdown",
   "metadata": {
    "id": "QdgVbXHHXe8-"
   },
   "source": [
    "## Implementation Task 2\n",
    "\n",
    "This task comes from the Section 2.1 of the reference paper as well. \n",
    "\n",
    "Instead of the problem in Task 1, we consider another problem, which is quite simple.\n",
    "\n",
    "$$\\min_x \\frac{1}{2}\\sum_{i=1}^n \\beta_i (x - y)^2$$\n",
    "here $\\beta_i$ are positive weights, $y$ is a scalar. Clearly the minimum is at $x = y$. We try to use the IGD to solve the problem. \n",
    "\n",
    "$$x_{k+1} = x_k - \\gamma_k \\beta_{i_k} (x_k - y)$$\n",
    "\n",
    "where $\\gamma_k\\equiv \\gamma = 0.95 \\min \\beta_i^{-1}$. For simplicity, the $\\beta_i$ are sampled uniformly between $[1,2]$. Your task2 is the same as the task1,  use two kinds of ordering to solve the problem and compare the results through figures."
   ]
  },
  {
   "cell_type": "code",
   "execution_count": 156,
   "metadata": {
    "id": "MGc2gHijps0F"
   },
   "outputs": [],
   "source": [
    "# IGD, the ordering is permitted to have replacement. \n",
    "#\n",
    "#\n",
    "import random\n",
    "def IGD_wr_task2(beta, y=0.5):\n",
    "    n = len(beta)\n",
    "    ordering = np.random.choice(n, n, replace=True)\n",
    "    # implement the algorithm's iteration of IGD. Your result should return the the final xk\n",
    "    # at the last iteration and also the history of objective function at each xk.\n",
    "    obj = []\n",
    "    cur_obj = 0 \n",
    "    x = 0\n",
    "    for i in range(n):\n",
    "      cur_obj = cur_obj + 0.5*beta[ordering[i]]*(x-y)**2\n",
    "      x = x -beta[ordering[i]]*(x-y)*0.95\n",
    "      obj.append(cur_obj)                          \n",
    "    return x, obj\n",
    "\n",
    "\n",
    "# IGD, the ordering is not permitted to have replacement.\n",
    "#\n",
    "#\n",
    "def IGD_wo_task2(beta, y=0.5):\n",
    "    n = len(beta)\n",
    "    ordering = np.random.choice(n, n, replace=False)\n",
    "    # implement the algorithm's iteration of IGD. Your result should return the the final xk\n",
    "    # at the last iteration and also the history of objective function at each xk.\n",
    "    obj = []\n",
    "    cur_obj = 0 \n",
    "    x = 0\n",
    "    for i in range(n):\n",
    "      cur_obj = cur_obj + 0.5*beta[ordering[i]]*(x-y)**2\n",
    "      x = x -beta[ordering[i]]*(x-y)*0.95\n",
    "      obj.append(cur_obj)                          \n",
    "    return x, obj"
   ]
  },
  {
   "cell_type": "markdown",
   "metadata": {
    "id": "UET_B4Usqy7e"
   },
   "source": [
    "### Your results to present\n",
    "Show your results by plotting two figures. For each cases of the above two settings, you need to plot the histories (``IGD_wr_task2`` and ``IGD_wo_task2``) of objective functions in the same figure. \n",
    "\n",
    "Conclude which strategy is better from the results. "
   ]
  },
  {
   "cell_type": "code",
   "execution_count": 157,
   "metadata": {
    "colab": {
     "base_uri": "https://localhost:8080/",
     "height": 313
    },
    "id": "tftp430_GcRb",
    "outputId": "7376414f-cafd-44fa-be2a-60df51e08fec"
   },
   "outputs": [
    {
     "name": "stdout",
     "output_type": "stream",
     "text": [
      "the final xk for IGD_wr_task2 on beta is: 0.4999999738418908\n",
      "the final xk for IGD_wo_task2 on beta is: 0.5000032375422448\n"
     ]
    },
    {
     "data": {
      "image/png": "[encoded data removed]",
      "text/plain": [
       "<Figure size 432x288 with 1 Axes>"
      ]
     },
     "metadata": {
      "needs_background": "light"
     },
     "output_type": "display_data"
    }
   ],
   "source": [
    "beta = generate_random_numbers(10, 1, 2, \"uniform\")\n",
    "import matplotlib.pyplot as plt\n",
    "xkr3, objr3 = IGD_wr_task2(beta)\n",
    "xko3, objo3 = IGD_wo_task2(beta)\n",
    "print('the final xk for IGD_wr_task2 on beta is: {}'.format(xkr3))\n",
    "print('the final xk for IGD_wo_task2 on beta is: {}'.format(xko3))\n",
    "plt.plot([i for i in range(len(beta))], objr3, c='blue', label='with replacement')\n",
    "plt.plot([i for i in range(len(beta))], objo3, c='red', label = 'without replacement')\n",
    "plt.xlabel(\"number of iterations\")\n",
    "plt.ylabel(\"least square objective function\")\n",
    "plt.legend(loc='upper left')\n",
    "plt.show()\n"
   ]
  },
  {
   "cell_type": "markdown",
   "metadata": {
    "id": "sSO_I1V2IAu1"
   },
   "source": [
    "### Conclusion\n",
    "\n",
    "As we can see without replacement converges faster. Also we point out some error in the skeleton code, since we are sampling beta and treat y as scalar constant, we really should take beta array as input instead of y array in the function IGD_wr_task2 and IGD_wo_task2"
   ]
  },
  {
   "cell_type": "markdown",
   "metadata": {
    "id": "4FZfrQ0wrNvH"
   },
   "source": [
    "## Implementation Task 3\n",
    "\n",
    "Now instead of 1D problem considered in above two tasks, we will consider the general case in higher dimensions, we study the least square problem to find solution of \n",
    "$$Ax = y$$\n",
    "where $A$ is an $m\\times n$ matrix and $x$ is a vector in $\\mathbb{R}^n$. In most cases, $m \\ge n$ which means the measurement is redundant for this linear model.  We denote the $i$th column $A^T$ as $a_i$ (namely the $i$th row of $A$ transposed), then we are minimizing\n",
    "\n",
    "$$\\min_x \\sum_{i=1}^m (a_i^T x - y_i)^2$$\n",
    "each $a_i\\in\\mathbb{R}^n$. \n",
    "\n",
    "And using IGD to minimize above problem with certain ordering. The step size $\\gamma$ is  taken as a fixed constant, say $10^{-3}$, which is a common value for GD. \n",
    "\n",
    "Each iteration will be \n",
    "\n",
    "$$x_{k+1} = x_k - \\gamma a_{i_k} (a_{i_k}^T x_{k} - y_{i_k})$$\n",
    "\n",
    "Your initial guess is still all zeros vector. \n"
   ]
  },
  {
   "cell_type": "markdown",
   "metadata": {
    "id": "jevXn5siy2lq"
   },
   "source": [
    "### Generation of $y$\n",
    "The $y$ vector is generated by taking the following form\n",
    "$$y_i = a_i^T x^{\\ast} + w_i$$\n",
    "where $w_i$ obeys normal distribution of zero mean and variance of $\\rho^2$, here $\\rho = 10^{-2}$. "
   ]
  },
  {
   "cell_type": "code",
   "execution_count": 158,
   "metadata": {
    "id": "m4dVvD5czPTP"
   },
   "outputs": [],
   "source": [
    "# generation of exact solution and data y and matrix A.\n",
    "\n",
    "def generate_problem_task3(m, n, rho):\n",
    "    A = np.random.normal(0., 1.0, (m, n))\n",
    "    x = np.random.random(n) # uniform in (0,1)\n",
    "    w = np.random.normal(0., rho, m)\n",
    "    y = A@x + w\n",
    "    return A, x, y"
   ]
  },
  {
   "cell_type": "code",
   "execution_count": 159,
   "metadata": {
    "id": "xit131efzd09"
   },
   "outputs": [],
   "source": [
    "# We generate the problem with 200x100 matrix. rho as 0.01.\n",
    "#\n",
    "A, xstar, y = generate_problem_task3(200, 100, 0.01)"
   ]
  },
  {
   "cell_type": "code",
   "execution_count": null,
   "metadata": {
    "id": "l1Nqy2TFLTy7"
   },
   "outputs": [],
   "source": []
  },
  {
   "cell_type": "code",
   "execution_count": 160,
   "metadata": {
    "id": "JmrxUfiHCacQ"
   },
   "outputs": [],
   "source": [
    "# In these two functions, we could only focus on the first n steps and try to make comparisons on these data only.\n",
    "# In practice, it requires more iterations to converge, due to the matrix might not be easy to deal with.\n",
    "# You can put the ordering loop into a naive loop: namely, we simply perform the IGD code several rounds.\n",
    "#\n",
    "#\n",
    "#\n",
    "# IGD, the ordering is permitted to have replacement. \n",
    "#\n",
    "#\n",
    "def IGD_wr_task3(y, A):\n",
    "    # implement the algorithm's iteration of IGD. Your result should return the the final xk\n",
    "    # at the last iteration and also the history of objective function at each xk.\n",
    "    obj = []\n",
    "    cur_obj = 0\n",
    "    m = A.shape[0]\n",
    "    n = A.shape[1] \n",
    "    x = np.zeros(n)\n",
    "    ordering = np.random.choice(m, m, replace=True)\n",
    "    for i in range(m):\n",
    "      cur_obj = cur_obj + (A[ordering[i]]@x - y[ordering[i]])**2\n",
    "      x = x -0.001*(A[ordering[i]]@x - y[ordering[i]])*A[ordering[i]]\n",
    "      obj.append(cur_obj)                          \n",
    "    return x, obj\n",
    "\n",
    "\n",
    "# IGD, the ordering is not permitted to have replacement.\n",
    "#\n",
    "#\n",
    "def IGD_wo_task3(y, A):\n",
    "    # implement the algorithm's iteration of IGD. Your result should return the the final xk\n",
    "    # at the last iteration and also the history of objective function at each xk.\n",
    "    obj = []\n",
    "    cur_obj = 0\n",
    "    m = A.shape[0]\n",
    "    n = A.shape[1] \n",
    "    x = np.zeros(n)\n",
    "    ordering = np.random.choice(m, m, replace=False)\n",
    "    for i in range(m):\n",
    "      cur_obj = cur_obj + (A[ordering[i]]@x - y[ordering[i]])**2\n",
    "      x = x -0.001*(A[ordering[i]]@x - y[ordering[i]])*A[ordering[i]]\n",
    "      obj.append(cur_obj)                          \n",
    "    return x, obj"
   ]
  },
  {
   "cell_type": "markdown",
   "metadata": {
    "id": "CJ9-S1GZFiVJ"
   },
   "source": [
    "### Your results to present\n",
    "Show your results by plotting two figures. For each cases of the above two settings, you need to plot the histories (``IGD_wr_task3`` and ``IGD_wo_task3``) of objective functions in the same figure.  \n",
    "\n",
    "Then change your code to plot the histories of $\\|x_k - x^{\\ast }\\|$ and compare the results about the convergences.\n",
    "\n",
    "Conclude which strategy is better from the results. "
   ]
  },
  {
   "cell_type": "code",
   "execution_count": 161,
   "metadata": {
    "colab": {
     "base_uri": "https://localhost:8080/",
     "height": 857
    },
    "id": "4Xd_QYrWMrY7",
    "outputId": "75aa3f6b-bae5-4776-ee93-15567087ef83"
   },
   "outputs": [
    {
     "name": "stdout",
     "output_type": "stream",
     "text": [
      "the final xk for IGD_wr_task3 is: [-0.01309336  0.0590288   0.1758841   0.13211318 -0.06919658  0.14822009\n",
      "  0.12452726  0.1188224   0.13548217 -0.01174532 -0.03376325 -0.1511133\n",
      "  0.25374854  0.06932182  0.20086484 -0.06612259  0.02978121  0.18833238\n",
      "  0.08737955  0.06569087  0.10014128  0.00217407  0.15610668  0.13071048\n",
      " -0.00901893  0.1802625   0.24829947  0.2087895   0.14829802 -0.0115474\n",
      "  0.12505694  0.06365669 -0.00974646 -0.02339493  0.1374806   0.04446801\n",
      "  0.19491381  0.03948026  0.11439576  0.07335072  0.09101714  0.24696887\n",
      "  0.05055457  0.08656331  0.15283385  0.10675062 -0.04129688 -0.06576496\n",
      "  0.04273032 -0.02638478  0.08189248  0.02983982  0.12608508  0.015767\n",
      " -0.00938603  0.26306056  0.00880328  0.16058197  0.10512478 -0.07673687\n",
      "  0.20054421  0.1004869   0.33221955  0.02424928  0.03460002  0.09449096\n",
      "  0.02728806  0.00105875  0.09595235  0.11048855 -0.06157918  0.13383854\n",
      "  0.13367706 -0.1247423   0.10186326  0.11267167  0.09498607  0.1182983\n",
      "  0.16145     0.03575365  0.11477131 -0.16642499  0.09325392  0.11813201\n",
      "  0.22691535  0.23808246  0.04079845 -0.11046004  0.12713789  0.27461249\n",
      " -0.19353901  0.10344876  0.20075596  0.0790438   0.0273521  -0.05359837\n",
      "  0.03626783  0.04650389  0.14000948  0.24231206]\n",
      "the final xk for IGD_wo_task3 is: [ 0.02844206  0.07854732  0.14371869  0.13413958 -0.09064085  0.13065224\n",
      "  0.10039615  0.10643852  0.15563922  0.06554564  0.10936024 -0.06654124\n",
      "  0.13348157  0.14055087  0.15966626 -0.09071986  0.10679937  0.20341659\n",
      "  0.12857098  0.04594788  0.09797635 -0.05155732  0.12428159  0.12161214\n",
      "  0.02209099  0.12870659  0.11072721  0.1444172   0.07406136  0.08224988\n",
      "  0.03828242  0.08436266  0.03791679  0.02909407  0.13033523  0.09108647\n",
      "  0.1986525  -0.02296195  0.13848229  0.13168775  0.04497521  0.28823872\n",
      "  0.04909604  0.16288887  0.10863214  0.06334529  0.0927981  -0.06054167\n",
      "  0.02061251  0.00611058  0.15460271  0.05680867  0.13238411  0.0467823\n",
      " -0.09077651  0.14756643  0.09044761  0.15458442  0.08832994 -0.03472911\n",
      "  0.11531502  0.04846236  0.36063036  0.02846572  0.02885316  0.16011023\n",
      "  0.10642428  0.076637    0.05604536  0.08162199  0.02218944  0.08965037\n",
      "  0.14154941 -0.06197671  0.0708516   0.14988624  0.10846161  0.00052834\n",
      "  0.17913383 -0.04212099  0.1069574  -0.07205298  0.11803318  0.06499096\n",
      "  0.13012974  0.16317344  0.04780313 -0.0104799   0.12639233  0.10987298\n",
      " -0.15044489 -0.01337412  0.20693352  0.12710055  0.06162287  0.00069743\n",
      "  0.07876766  0.09871877  0.01622689  0.14039109]\n"
     ]
    },
    {
     "data": {
      "image/png": "[encoded data removed]",
      "text/plain": [
       "<Figure size 432x288 with 1 Axes>"
      ]
     },
     "metadata": {
      "needs_background": "light"
     },
     "output_type": "display_data"
    }
   ],
   "source": [
    "import matplotlib.pyplot as plt\n",
    "x_trainr, objr = IGD_wr_task3(y, A)\n",
    "x_traino, objo = IGD_wo_task3(y, A)\n",
    "print('the final xk for IGD_wr_task3 is: {}'.format(x_trainr))\n",
    "print('the final xk for IGD_wo_task3 is: {}'.format(x_traino))\n",
    "plt.plot([i for i in range(A.shape[0])], objr, c='blue', label='with replacement')\n",
    "plt.plot([i for i in range(A.shape[0])], objo, c='red', label = 'without replacement')\n",
    "plt.xlabel(\"number of iterations\")\n",
    "plt.ylabel(\"least square objective function\")\n",
    "plt.legend(loc='upper left')\n",
    "plt.show()"
   ]
  },
  {
   "cell_type": "markdown",
   "metadata": {
    "id": "ydw0_3pPOpfr"
   },
   "source": [
    "As we can see the without replacement converges faster. (Has a lower objective). Now we plot the norm of the residue:\n"
   ]
  },
  {
   "cell_type": "code",
   "execution_count": 162,
   "metadata": {
    "colab": {
     "base_uri": "https://localhost:8080/",
     "height": 857
    },
    "id": "bB0rWqdeNYix",
    "outputId": "5e0d175f-b345-41e9-faa7-b5f3b4390943"
   },
   "outputs": [
    {
     "name": "stdout",
     "output_type": "stream",
     "text": [
      "the final xk for IGD_wr_task3 is: [ 1.94935241e-02  2.35209888e-02  1.61633376e-01  2.01512056e-01\n",
      " -5.71460097e-02  1.14768298e-01  1.08597617e-01  1.24391073e-01\n",
      "  1.16992434e-01  1.00986966e-01  2.82387416e-02 -1.32031976e-01\n",
      "  1.47923392e-01  2.11863893e-01  1.21340845e-01 -8.10756398e-02\n",
      "  6.55370460e-02  1.34376163e-01  1.98181095e-02 -8.35523000e-03\n",
      " -2.82098593e-02 -4.91455131e-02  2.02237336e-01  6.14165516e-02\n",
      "  8.82391119e-03  1.10557215e-01  6.61694205e-02  6.76443626e-02\n",
      "  4.28011198e-02  1.95349484e-01 -1.34387641e-03  8.98192007e-02\n",
      "  9.84332700e-02 -3.28062370e-02  7.82947390e-02  2.97006247e-02\n",
      "  1.61786249e-01 -3.66730005e-02  1.49802686e-01  2.89981174e-01\n",
      "  5.35397737e-02  2.22739974e-01  3.62083604e-02  1.30024626e-01\n",
      "  7.84005721e-02  3.31777487e-02  3.53246845e-02 -3.48339527e-02\n",
      " -2.54027366e-03 -4.68358414e-02  1.61238356e-01  1.09132242e-01\n",
      "  5.43247163e-02  4.04466338e-02 -4.84503256e-03  1.87050828e-01\n",
      "  7.47669687e-02  2.10378336e-01  7.77467722e-02 -1.46006963e-01\n",
      "  2.01850237e-01  5.42890191e-02  3.82800367e-01  3.26394615e-02\n",
      "  2.72128094e-02  1.15738550e-01  2.66790075e-02  6.48549286e-02\n",
      " -3.53877621e-04  1.50294412e-01  2.90682935e-02  3.74905451e-02\n",
      "  1.23014224e-01 -3.64161446e-02  6.60537780e-02  1.78702037e-01\n",
      "  1.08400022e-01  6.55281315e-02  1.79167417e-01 -1.22707451e-01\n",
      "  1.91911895e-02 -1.39737815e-01  6.33504301e-02  4.88549617e-03\n",
      "  4.91785464e-02  2.91593371e-02 -2.19053461e-02 -1.99918711e-02\n",
      "  1.59241288e-01  4.81120533e-02 -1.78877039e-01  8.56824851e-03\n",
      "  1.62578820e-01  1.32254128e-01  1.50889860e-01  4.60951257e-02\n",
      "  1.48755024e-01  9.52391052e-02 -7.83660863e-02  7.68189456e-02]\n",
      "the final xk for IGD_wo_task3 is: [ 0.03089057  0.07858643  0.14986037  0.13733306 -0.09356153  0.12528807\n",
      "  0.09841009  0.10607661  0.15761223  0.06888875  0.10356274 -0.06715206\n",
      "  0.13696649  0.15191117  0.16186556 -0.09380764  0.11058902  0.20968622\n",
      "  0.13424003  0.0383843   0.09515922 -0.05484465  0.11675526  0.11258917\n",
      "  0.02558172  0.13216686  0.11222287  0.14891459  0.06425243  0.08664545\n",
      "  0.03470849  0.0792292   0.03249053  0.02151403  0.12370529  0.08909626\n",
      "  0.20039128 -0.0259157   0.13851765  0.13183606  0.05957528  0.27948192\n",
      "  0.05626235  0.1738356   0.10454756  0.06123388  0.0950668  -0.06139028\n",
      "  0.01456651  0.00510079  0.15085164  0.0490743   0.14076552  0.04769448\n",
      " -0.08819414  0.14271623  0.08385481  0.15710672  0.09489373 -0.02710722\n",
      "  0.10867191  0.04856376  0.36700844  0.03304666  0.03847563  0.16352054\n",
      "  0.10706555  0.07506262  0.04084826  0.08560748  0.01906707  0.09572245\n",
      "  0.13734089 -0.05946209  0.06192569  0.14093641  0.11068138  0.00077684\n",
      "  0.18195525 -0.03747484  0.11058036 -0.06545272  0.12255972  0.06787087\n",
      "  0.1302547   0.16523401  0.04919364 -0.00276117  0.13222328  0.10643147\n",
      " -0.15762632  0.00279725  0.19977134  0.13622452  0.06169076 -0.00588036\n",
      "  0.08182732  0.0859534   0.01628731  0.14103648]\n"
     ]
    },
    {
     "data": {
      "image/png": "[encoded data removed]",
      "text/plain": [
       "<Figure size 432x288 with 1 Axes>"
      ]
     },
     "metadata": {
      "needs_background": "light"
     },
     "output_type": "display_data"
    }
   ],
   "source": [
    "from numpy import linalg as LA\n",
    "def IGD_wr_task3(y, A, xstar):\n",
    "    # implement the algorithm's iteration of IGD. Your result should return the the final xk\n",
    "    # at the last iteration and also the history of objective function at each xk.\n",
    "    obj = []\n",
    "    m = A.shape[0]\n",
    "    n = A.shape[1] \n",
    "    x = np.zeros(n)\n",
    "    ordering = np.random.choice(m, m, replace=True)\n",
    "    for i in range(m):\n",
    "      obj.append(LA.norm(xstar-x))\n",
    "      x = x -0.001*(A[ordering[i]]@x - y[ordering[i]])*A[ordering[i]]\n",
    "    return x, obj\n",
    "\n",
    "\n",
    "# IGD, the ordering is not permitted to have replacement.\n",
    "#\n",
    "#\n",
    "def IGD_wo_task3(y, A, xstar):\n",
    "    # implement the algorithm's iteration of IGD. Your result should return the the final xk\n",
    "    # at the last iteration and also the history of objective function at each xk.\n",
    "    obj = []\n",
    "    m = A.shape[0]\n",
    "    n = A.shape[1] \n",
    "    x = np.zeros(n)\n",
    "    ordering = np.random.choice(m, m, replace=False)\n",
    "    for i in range(m):\n",
    "      obj.append(LA.norm(xstar-x))\n",
    "      x = x -0.001*(A[ordering[i]]@x - y[ordering[i]])*A[ordering[i]]\n",
    "    return x, obj\n",
    "x_trainr, objr = IGD_wr_task3(y, A, xstar)\n",
    "x_traino, objo = IGD_wo_task3(y, A, xstar)\n",
    "print('the final xk for IGD_wr_task3 is: {}'.format(x_trainr))\n",
    "print('the final xk for IGD_wo_task3 is: {}'.format(x_traino))\n",
    "plt.plot([i for i in range(A.shape[0])], objr, c='blue', label='with replacement')\n",
    "plt.plot([i for i in range(A.shape[0])], objo, c='red', label = 'without replacement')\n",
    "plt.xlabel(\"number of iterations\")\n",
    "plt.ylabel(\"least square objective function\")\n",
    "plt.legend(loc='upper left')\n",
    "plt.show()"
   ]
  },
  {
   "cell_type": "markdown",
   "metadata": {
    "id": "eI6Xt0HyPtg3"
   },
   "source": [
    "### Conclusion\n",
    "\n",
    "As we can see, the without replacement has a faster convergence residue norm."
   ]
  }
 ],
 "metadata": {
  "colab": {
   "collapsed_sections": [],
   "name": "Copy of Ordering of Randomized Optimization.ipynb",
   "provenance": [],
   "toc_visible": true
  },
  "kernelspec": {
   "display_name": "Python 3",
   "language": "python",
   "name": "python3"
  },
  "language_info": {
   "codemirror_mode": {
    "name": "ipython",
    "version": 3
   },
   "file_extension": ".py",
   "mimetype": "text/x-python",
   "name": "python",
   "nbconvert_exporter": "python",
   "pygments_lexer": "ipython3",
   "version": "3.7.3"
  }
 },
 "nbformat": 4,
 "nbformat_minor": 1
}
