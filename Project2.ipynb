{
 "cells": [
  {
   "cell_type": "markdown",
   "metadata": {
    "id": "_LtDgJBs0C9d"
   },
   "source": [
    "## First things first\n",
    "We review the gradient descent method learned in last quarter, for minimization of $f(x)$, the Gradient Descent (GD) iteration is \n",
    "$$x_{k+1} = x_k - \\alpha_k \\nabla f(x_k)$$\n",
    "with $\\alpha_k$ the chosen step length, usually a backtracking type loop is associated for the choice of $\\alpha_k$. \n",
    "\n"
   ]
  },
  {
   "cell_type": "markdown",
   "metadata": {
    "id": "9f2jq6a-0qhc"
   },
   "source": [
    "## Incremental GD\n",
    "There are some variants of GD, like coordinate gradient descent or the stochastic gradient descent. Here we focus on the IGD: incremental GD, it is similar to the coordinate GD, which is dealing with something local and then deal with something else later. \n",
    "\n",
    "Suppose the problem is:\n",
    "$$\\min_x f(x) := \\sum_{i=1}^m f_i(x)$$\n",
    "the objective function is the summation of a few other objective functions. This is quite normal in real life applications. Especially the statistics and imaging science. \n",
    "\n",
    "The IGD is dealing with one of the $f_i$ with GD and then deal with others in similar manner. Suppose we have fixed an ordering $i_0, i_1, i_2, \\dots, i_k,\\dots$, this ordering is infinite or finite, the numbers are just sampled from $\\{ 1,2,\\dots, m\\}$, basically telling you an order of $f_i$ to deal with. During each iteration, we update $x_k$ by\n",
    "\n",
    "$$x_{k+1} = x_{k} - \\gamma_k \\nabla f_{i_k}(x_{k})$$\n",
    "where $\\gamma_k$ is the step length.  \n",
    "\n",
    "When the ordering is sampled uniformly from $\\{ 1,2,\\dots, m\\}$, then this method becomes **Stochastic GD**. But the ordering could be other kind or distribution, even deterministic, we will mainly focus on select a better strategy for the ordering."
   ]
  },
  {
   "cell_type": "markdown",
   "metadata": {
    "id": "-b9lGznZDwSD"
   },
   "source": [
    "## Implementation Task 1\n",
    "\n",
    "This task comes from the Section 2.1 of the reference paper.\n",
    "\n",
    "We implement the 1D example of least square problem for the IGD. Then problem is given by \n",
    "\n",
    "$$\\min_x \\frac{1}{2}\\sum_{i=1}^n (x- y_i)^2$$\n",
    "where $y_i$ is a sequence of scalars sampled with certain given mean value $\\mu$ and variance $\\sigma^2$. Following the above method, the iteration will be\n",
    "$$x_{k+1} =x_k -\\gamma_k (x_{k} - y_{i_k})$$\n",
    "where $y_{i_k}$ comes from the selected ordering.  \n",
    "\n",
    "In the first task, you need to implement the following functions. "
   ]
  },
  {
   "cell_type": "markdown",
   "metadata": {
    "id": "SUfiwv22qUma"
   },
   "source": [
    "# Random or not so random?\n",
    "\n",
    "In the project, you will study the optimization algorithms related to the randomization. For a group of random algorithms, the randomness could be improved through certain strategy. The reference for this project comes from https://arxiv.org/pdf/1202.4184.pdf . \n",
    "\n",
    "The mathematical problem discussed in the above paper is quite simple, however it provides some insights for data science, especially for linear problems. The conjecture in the paper is still an open problem in general."
   ]
  },
  {
   "cell_type": "code",
   "execution_count": 1,
   "metadata": {
    "id": "RvnjT762FadE"
   },
   "outputs": [],
   "source": [
    "# generate a vector of random numbers which obeys the given distribution.\n",
    "#\n",
    "# n: length of the vector\n",
    "# mu: mean value\n",
    "# sigma: standard deviation.\n",
    "# dist: choices for the distribution, you need to implement at least normal \n",
    "#       distribution and uniform distribution.\n",
    "#\n",
    "# For normal distribution, you can use ``numpy.random.normal`` to generate.\n",
    "# For uniform distribution, the interval to sample will be [mu - sigma/sqrt(3), mu + sigma/sqrt(3)].\n",
    "\n",
    "import numpy as np\n",
    "from math import sqrt\n",
    "def generate_random_numbers(n, mu, sigma, dist=\"normal\"):\n",
    "    # write your code here.\n",
    "    if dist == \"normal\":\n",
    "        return np.random.normal(mu, sigma, n)\n",
    "    elif dist == \"uniform\":\n",
    "        # write your code here.\n",
    "        return np.random.uniform(mu-sigma/sqrt(3), mu+sigma/sqrt(3), n)\n",
    "    else:\n",
    "        raise Exception(\"The distribution {unknown_dist} is not implemented\".format(unknown_dist=dist))\n",
    "        \n",
    "        \n",
    "# test your code:"
   ]
  },
  {
   "cell_type": "markdown",
   "metadata": {},
   "source": [
    "## visualize the data to test the code"
   ]
  },
  {
   "cell_type": "code",
   "execution_count": 2,
   "metadata": {
    "scrolled": true
   },
   "outputs": [
    {
     "data": {
      "image/png": "[encoded data removed]",
      "text/plain": [
       "<Figure size 432x288 with 1 Axes>"
      ]
     },
     "metadata": {
      "needs_background": "light"
     },
     "output_type": "display_data"
    }
   ],
   "source": [
    "# test your code:\n",
    "import matplotlib.pyplot as plt\n",
    "import math\n",
    "import scipy.stats as stats\n",
    "mu = 0.5\n",
    "variance = 1\n",
    "n=1000000\n",
    "y_test = generate_random_numbers(n, mu,variance , \"normal\")\n",
    "plt.hist(y_test, bins=100)\n",
    "plt.gca().set(title='Frequency Histogram', ylabel='Frequency');\n",
    "\n",
    "sigma = math.sqrt(variance)\n",
    "x = np.linspace(mu - 3*sigma, mu + 3*sigma, 100)\n",
    "plt.plot(x, stats.norm.pdf(x, mu, sigma)*0.099*n)\n",
    "plt.show()"
   ]
  },
  {
   "cell_type": "markdown",
   "metadata": {
    "id": "MdytKKS9Iyd6"
   },
   "source": [
    "### Settings of the minimization problems\n",
    "Now you will setup the problem with a sampling of $y$ vector with the following two different settings:\n",
    "```\n",
    "n, mu, sigma, dist = 105, 0.5, 1.0, \"normal\"\n",
    "```\n",
    "and \n",
    "```\n",
    "n, mu, sigma, dist = 105, 0.5, 1.0, \"uniform\"\n",
    "```\n",
    "Your initial guess will be $x_0 = 0$ for both cases. The step length is taking the diminishing factor $\\gamma_k = \\frac{1}{k+1}$."
   ]
  },
  {
   "cell_type": "code",
   "execution_count": 3,
   "metadata": {
    "id": "dZQTddxHPIBB"
   },
   "outputs": [],
   "source": [
    "y1 = generate_random_numbers(105, 0.5, 1.0, \"normal\")\n",
    "y2 = generate_random_numbers(105, 0.5, 1.0, \"uniform\")"
   ]
  },
  {
   "cell_type": "markdown",
   "metadata": {
    "id": "y2r5QCRCKfql"
   },
   "source": [
    "### Two orderings to experiment with\n",
    "\n",
    "1. Random ordering with replacement\n",
    "In this case, we do not choose the fixed ordering, we sample a number in $\\{1,2,\\dots, n \\}$ each time and follow the iteration.\n",
    "\n",
    "2. Random ordering without replacement\n",
    "In this case, we do not choose the fixed ordering, we sample an ordering without replacement from $\\{1,2,\\dots, n\\}$ and then follow the iteration."
   ]
  },
  {
   "cell_type": "code",
   "execution_count": 4,
   "metadata": {
    "id": "G-BDbTsMPT7I"
   },
   "outputs": [],
   "source": [
    "# IGD, the ordering is permitted to have replacement. \n",
    "#\n",
    "#\n",
    "def IGD_wr_task1(y):\n",
    "    n = len(y)\n",
    "    ordering = np.random.choice(n, n, replace=True)\n",
    "    # implement the algorithm's iteration of IGD. Your result should return the the final xk\n",
    "    # at the last iteration and also the history of objective function at each xk.\n",
    "    obj = []\n",
    "    cur_obj = 0 \n",
    "    x = 0\n",
    "    \n",
    "    for i in range(n):\n",
    "      cur_obj = cur_obj + 0.5*(x-y[ordering[i]])**2\n",
    "      x = x -(x-y[ordering[i]])/(i+1)\n",
    "      obj.append(cur_obj)                          \n",
    "    return x, obj\n",
    "\n",
    "\n",
    "\n",
    "# IGD, the ordering is not permitted to have replacement.\n",
    "#\n",
    "#\n",
    "def IGD_wo_task1(y):\n",
    "    n = len(y)\n",
    "    ordering = np.random.choice(n, n, replace=False)\n",
    "    # implement the algorithm's iteration of IGD. Your result should return the the final xk\n",
    "    # at the last iteration and also the history of objective function at each xk.\n",
    "    obj = []\n",
    "    cur_obj = 0 \n",
    "    x = 0\n",
    "    \n",
    "    for i in range(n):\n",
    "      cur_obj = cur_obj + 0.5*(x-y[ordering[i]])**2\n",
    "      x = x -(x-y[ordering[i]])/(i+1)\n",
    "      obj.append(cur_obj)                          \n",
    "    return x, obj"
   ]
  },
  {
   "cell_type": "markdown",
   "metadata": {
    "id": "06UQih7YWvN8"
   },
   "source": [
    "### Your results to present\n",
    "Show your results by plotting two figures. For each cases of the above two settings, you need to plot the histories (``IGD_wr_task1`` and ``IGD_wo_task1``) of objective functions in the same figure. \n",
    "\n",
    "Conclude which strategy is better from the results. \n",
    "\n",
    "Briefly prove the ``IGD_wo_task1`` must converge to the true solution (mean value of ``y``). You can calculate first a few values of $x_k$ by hand to see why."
   ]
  },
  {
   "cell_type": "markdown",
   "metadata": {
    "id": "gPIwU49fRBi_"
   },
   "source": [
    "Firstly, we prove that ``IGD_wo_task1`` must converge to the true solution (mean value of ``y``). Note if taken without replacement and start from $$x_0=0$$, we have $$x_k = \\frac{1}{n}\\sum_{i=1}^n y_{ik}$$\n",
    "And by central limit theorem, $\\frac{1}{n}\\sum_{i=1}^n y_{ik}$ converges to $\\mu$ as n approaches infinity"
   ]
  },
  {
   "cell_type": "code",
   "execution_count": 10,
   "metadata": {
    "colab": {
     "base_uri": "https://localhost:8080/",
     "height": 313
    },
    "id": "FAYdXFgsbC82",
    "outputId": "150809b4-0f08-4cfa-dc27-670e83a9517d"
   },
   "outputs": [
    {
     "name": "stdout",
     "output_type": "stream",
     "text": [
      "the final xk for IGD_wr_task1 on y1 is: 0.6956032671425088\n",
      "the final xk for IGD_wo_task1 on y1 is: 0.6534243383314573\n"
     ]
    },
    {
     "data": {
      "image/png": "[encoded data removed]",
      "text/plain": [
       "<Figure size 432x288 with 1 Axes>"
      ]
     },
     "metadata": {
      "needs_background": "light"
     },
     "output_type": "display_data"
    }
   ],
   "source": [
    "import matplotlib.pyplot as plt\n",
    "# plot normal distribution\n",
    "xkr1, objr1 = IGD_wr_task1(y1)\n",
    "xko1, objo1 = IGD_wo_task1(y1)\n",
    "print('the final xk for IGD_wr_task1 on y1 is: {}'.format(xkr1))\n",
    "print('the final xk for IGD_wo_task1 on y1 is: {}'.format(xko1))\n",
    "plt.plot([i for i in range(len(y1))], objr1, c='blue', label='with replacement')\n",
    "plt.plot([i for i in range(len(y1))], objo1, c='red', label = 'without replacement')\n",
    "plt.xlabel(\"number of iterations\")\n",
    "plt.ylabel(\"least square objective function\")\n",
    "plt.legend(loc='upper left')\n",
    "plt.show()\n",
    "\n"
   ]
  },
  {
   "cell_type": "markdown",
   "metadata": {
    "id": "ppsPReHH_PB9"
   },
   "source": [
    "From the above graph, we can see that without replacement converges faster. Note that we did not divide n, the number of iterations, in our objective function, so the objective function seems increasing. "
   ]
  },
  {
   "cell_type": "code",
   "execution_count": 11,
   "metadata": {
    "colab": {
     "base_uri": "https://localhost:8080/",
     "height": 314
    },
    "id": "zSCePGX_AQJg",
    "outputId": "a696b8be-01fc-443f-8882-36919cdb868f"
   },
   "outputs": [
    {
     "name": "stdout",
     "output_type": "stream",
     "text": [
      "the final xk for IGD_wr_task1 on y2 is: 0.4264077449013256\n",
      "the final xk for IGD_wo_task1 on y2 is: 0.412760328470467\n"
     ]
    },
    {
     "data": {
      "image/png": "[encoded data removed]",
      "text/plain": [
       "<Figure size 432x288 with 1 Axes>"
      ]
     },
     "metadata": {
      "needs_background": "light"
     },
     "output_type": "display_data"
    }
   ],
   "source": [
    "import matplotlib.pyplot as plt\n",
    "# plot uniform distribution\n",
    "xkr2, objr2 = IGD_wr_task1(y2)\n",
    "xko2, objo2 = IGD_wo_task1(y2)\n",
    "print('the final xk for IGD_wr_task1 on y2 is: {}'.format(xkr2))\n",
    "print('the final xk for IGD_wo_task1 on y2 is: {}'.format(xko2))\n",
    "plt.plot([i for i in range(len(y2))], objr2, c='blue', label='with replacement')\n",
    "plt.plot([i for i in range(len(y2))], objo2, c='red', label = 'without replacement')\n",
    "plt.xlabel(\"number of iterations\")\n",
    "plt.ylabel(\"least square objective function\")\n",
    "plt.legend(loc='upper left')\n",
    "plt.show()"
   ]
  },
  {
   "cell_type": "markdown",
   "metadata": {
    "id": "kBqjM1ZKA-aC"
   },
   "source": [
    "### Conclusion\n",
    "Again, we can see that without replacement converges faster."
   ]
  },
  {
   "cell_type": "markdown",
   "metadata": {
    "id": "QdgVbXHHXe8-"
   },
   "source": [
    "## Implementation Task 2\n",
    "\n",
    "This task comes from the Section 2.1 of the reference paper as well. \n",
    "\n",
    "Instead of the problem in Task 1, we consider another problem, which is quite simple.\n",
    "\n",
    "$$\\min_x \\frac{1}{2}\\sum_{i=1}^n \\beta_i (x - y)^2$$\n",
    "here $\\beta_i$ are positive weights, $y$ is a scalar. Clearly the minimum is at $x = y$. We try to use the IGD to solve the problem. \n",
    "\n",
    "$$x_{k+1} = x_k - \\gamma_k \\beta_{i_k} (x_k - y)$$\n",
    "\n",
    "where $\\gamma_k\\equiv \\gamma = 0.95 \\min \\beta_i^{-1}$. For simplicity, the $\\beta_i$ are sampled uniformly between $[1,2]$. Your task2 is the same as the task1,  use two kinds of ordering to solve the problem and compare the results through figures."
   ]
  },
  {
   "cell_type": "code",
   "execution_count": 12,
   "metadata": {
    "id": "MGc2gHijps0F"
   },
   "outputs": [],
   "source": [
    "# IGD, the ordering is permitted to have replacement. \n",
    "#\n",
    "#\n",
    "import random\n",
    "def IGD_wr_task2(beta, y=0.5):\n",
    "    n = len(beta)\n",
    "    ordering = np.random.choice(n, n, replace=True)\n",
    "    # implement the algorithm's iteration of IGD. Your result should return the the final xk\n",
    "    # at the last iteration and also the history of objective function at each xk.\n",
    "    obj = []\n",
    "    cur_obj = 0 \n",
    "    x = 0\n",
    "    for i in range(n):\n",
    "      cur_obj = cur_obj + 0.5*beta[ordering[i]]*(x-y)**2\n",
    "      x = x -beta[ordering[i]]*(x-y)*0.95\n",
    "      obj.append(cur_obj)                          \n",
    "    return x, obj\n",
    "\n",
    "\n",
    "# IGD, the ordering is not permitted to have replacement.\n",
    "#\n",
    "#\n",
    "def IGD_wo_task2(beta, y=0.5):\n",
    "    n = len(beta)\n",
    "    ordering = np.random.choice(n, n, replace=False)\n",
    "    # implement the algorithm's iteration of IGD. Your result should return the the final xk\n",
    "    # at the last iteration and also the history of objective function at each xk.\n",
    "    obj = []\n",
    "    cur_obj = 0 \n",
    "    x = 0\n",
    "    for i in range(n):\n",
    "      cur_obj = cur_obj + 0.5*beta[ordering[i]]*(x-y)**2\n",
    "      x = x -beta[ordering[i]]*(x-y)*0.95\n",
    "      obj.append(cur_obj)                          \n",
    "    return x, obj"
   ]
  },
  {
   "cell_type": "markdown",
   "metadata": {
    "id": "UET_B4Usqy7e"
   },
   "source": [
    "### Your results to present\n",
    "Show your results by plotting two figures. For each cases of the above two settings, you need to plot the histories (``IGD_wr_task2`` and ``IGD_wo_task2``) of objective functions in the same figure. \n",
    "\n",
    "Conclude which strategy is better from the results. "
   ]
  },
  {
   "cell_type": "code",
   "execution_count": 16,
   "metadata": {
    "colab": {
     "base_uri": "https://localhost:8080/",
     "height": 313
    },
    "id": "tftp430_GcRb",
    "outputId": "7376414f-cafd-44fa-be2a-60df51e08fec"
   },
   "outputs": [
    {
     "name": "stdout",
     "output_type": "stream",
     "text": [
      "the final xk for IGD_wr_task2 on beta is: 0.5000907033920379\n",
      "the final xk for IGD_wo_task2 on beta is: 0.49999895624414575\n"
     ]
    },
    {
     "data": {
      "image/png": "[encoded data removed]",
      "text/plain": [
       "<Figure size 432x288 with 1 Axes>"
      ]
     },
     "metadata": {
      "needs_background": "light"
     },
     "output_type": "display_data"
    }
   ],
   "source": [
    "beta = generate_random_numbers(10, 1, 2, \"uniform\")\n",
    "import matplotlib.pyplot as plt\n",
    "xkr3, objr3 = IGD_wr_task2(beta)\n",
    "xko3, objo3 = IGD_wo_task2(beta)\n",
    "print('the final xk for IGD_wr_task2 on beta is: {}'.format(xkr3))\n",
    "print('the final xk for IGD_wo_task2 on beta is: {}'.format(xko3))\n",
    "plt.plot([i for i in range(len(beta))], objr3, c='blue', label='with replacement')\n",
    "plt.plot([i for i in range(len(beta))], objo3, c='red', label = 'without replacement')\n",
    "plt.xlabel(\"number of iterations\")\n",
    "plt.ylabel(\"least square objective function\")\n",
    "plt.legend(loc='upper left')\n",
    "plt.show()\n"
   ]
  },
  {
   "cell_type": "markdown",
   "metadata": {
    "id": "sSO_I1V2IAu1"
   },
   "source": [
    "### Conclusion\n",
    "\n",
    "As we can see without replacement converges faster. Also we point out some error in the skeleton code, since we are sampling beta and treat y as scalar constant, we really should take beta array as input instead of y array in the function IGD_wr_task2 and IGD_wo_task2"
   ]
  },
  {
   "cell_type": "markdown",
   "metadata": {
    "id": "4FZfrQ0wrNvH"
   },
   "source": [
    "## Implementation Task 3\n",
    "\n",
    "Now instead of 1D problem considered in above two tasks, we will consider the general case in higher dimensions, we study the least square problem to find solution of \n",
    "$$Ax = y$$\n",
    "where $A$ is an $m\\times n$ matrix and $x$ is a vector in $\\mathbb{R}^n$. In most cases, $m \\ge n$ which means the measurement is redundant for this linear model.  We denote the $i$th column $A^T$ as $a_i$ (namely the $i$th row of $A$ transposed), then we are minimizing\n",
    "\n",
    "$$\\min_x \\sum_{i=1}^m (a_i^T x - y_i)^2$$\n",
    "each $a_i\\in\\mathbb{R}^n$. \n",
    "\n",
    "And using IGD to minimize above problem with certain ordering. The step size $\\gamma$ is  taken as a fixed constant, say $10^{-3}$, which is a common value for GD. \n",
    "\n",
    "Each iteration will be \n",
    "\n",
    "$$x_{k+1} = x_k - \\gamma a_{i_k} (a_{i_k}^T x_{k} - y_{i_k})$$\n",
    "\n",
    "Your initial guess is still all zeros vector. \n"
   ]
  },
  {
   "cell_type": "markdown",
   "metadata": {
    "id": "jevXn5siy2lq"
   },
   "source": [
    "### Generation of $y$\n",
    "The $y$ vector is generated by taking the following form\n",
    "$$y_i = a_i^T x^{\\ast} + w_i$$\n",
    "where $w_i$ obeys normal distribution of zero mean and variance of $\\rho^2$, here $\\rho = 10^{-2}$. "
   ]
  },
  {
   "cell_type": "code",
   "execution_count": 17,
   "metadata": {
    "id": "m4dVvD5czPTP"
   },
   "outputs": [],
   "source": [
    "# generation of exact solution and data y and matrix A.\n",
    "\n",
    "def generate_problem_task3(m, n, rho):\n",
    "    A = np.random.normal(0., 1.0, (m, n))\n",
    "    x = np.random.random(n) # uniform in (0,1)\n",
    "    w = np.random.normal(0., rho, m)\n",
    "    y = A@x + w\n",
    "    return A, x, y"
   ]
  },
  {
   "cell_type": "code",
   "execution_count": 18,
   "metadata": {
    "id": "xit131efzd09"
   },
   "outputs": [],
   "source": [
    "# We generate the problem with 200x100 matrix. rho as 0.01.\n",
    "#\n",
    "A, xstar, y = generate_problem_task3(200, 100, 0.01)"
   ]
  },
  {
   "cell_type": "code",
   "execution_count": 19,
   "metadata": {
    "id": "JmrxUfiHCacQ"
   },
   "outputs": [],
   "source": [
    "# In these two functions, we could only focus on the first n steps and try to make comparisons on these data only.\n",
    "# In practice, it requires more iterations to converge, due to the matrix might not be easy to deal with.\n",
    "# You can put the ordering loop into a naive loop: namely, we simply perform the IGD code several rounds.\n",
    "#\n",
    "#\n",
    "#\n",
    "# IGD, the ordering is permitted to have replacement. \n",
    "#\n",
    "#\n",
    "def IGD_wr_task3(y, A):\n",
    "    # implement the algorithm's iteration of IGD. Your result should return the the final xk\n",
    "    # at the last iteration and also the history of objective function at each xk.\n",
    "    obj = []\n",
    "    cur_obj = 0\n",
    "    m = A.shape[0]\n",
    "    n = A.shape[1] \n",
    "    x = np.zeros(n)\n",
    "    ordering = np.random.choice(m, m, replace=True)\n",
    "    for i in range(m):\n",
    "      cur_obj = cur_obj + (A[ordering[i]]@x - y[ordering[i]])**2\n",
    "      x = x -0.001*(A[ordering[i]]@x - y[ordering[i]])*A[ordering[i]]\n",
    "      obj.append(cur_obj)                          \n",
    "    return x, obj\n",
    "\n",
    "\n",
    "# IGD, the ordering is not permitted to have replacement.\n",
    "#\n",
    "#\n",
    "def IGD_wo_task3(y, A):\n",
    "    # implement the algorithm's iteration of IGD. Your result should return the the final xk\n",
    "    # at the last iteration and also the history of objective function at each xk.\n",
    "    obj = []\n",
    "    cur_obj = 0\n",
    "    m = A.shape[0]\n",
    "    n = A.shape[1] \n",
    "    x = np.zeros(n)\n",
    "    ordering = np.random.choice(m, m, replace=False)\n",
    "    for i in range(m):\n",
    "      cur_obj = cur_obj + (A[ordering[i]]@x - y[ordering[i]])**2\n",
    "      x = x -0.001*(A[ordering[i]]@x - y[ordering[i]])*A[ordering[i]]\n",
    "      obj.append(cur_obj)                          \n",
    "    return x, obj"
   ]
  },
  {
   "cell_type": "markdown",
   "metadata": {
    "id": "CJ9-S1GZFiVJ"
   },
   "source": [
    "### Your results to present\n",
    "Show your results by plotting two figures. For each cases of the above two settings, you need to plot the histories (``IGD_wr_task3`` and ``IGD_wo_task3``) of objective functions in the same figure.  \n",
    "\n",
    "Then change your code to plot the histories of $\\|x_k - x^{\\ast }\\|$ and compare the results about the convergences.\n",
    "\n",
    "Conclude which strategy is better from the results. "
   ]
  },
  {
   "cell_type": "code",
   "execution_count": 20,
   "metadata": {
    "colab": {
     "base_uri": "https://localhost:8080/",
     "height": 857
    },
    "id": "4Xd_QYrWMrY7",
    "outputId": "75aa3f6b-bae5-4776-ee93-15567087ef83"
   },
   "outputs": [
    {
     "name": "stdout",
     "output_type": "stream",
     "text": [
      "the final xk for IGD_wr_task3 is: [ 0.19069664  0.16844776  0.05410502  0.17359165 -0.02192898  0.06403021\n",
      "  0.1485851   0.21592918  0.09557565  0.07073426  0.14583556  0.02059902\n",
      "  0.10766973 -0.0189891   0.01854111  0.0736601   0.12157516 -0.15391234\n",
      "  0.07904457  0.19665453  0.23277881  0.13146336  0.00596185  0.0392926\n",
      "  0.16224921 -0.06272439 -0.0457627   0.15790254  0.16372226  0.25128187\n",
      "  0.00366599  0.07755395  0.06880934  0.11123709  0.01952268  0.02989462\n",
      "  0.20987485  0.394721    0.12963787 -0.11081296 -0.12184285 -0.03852881\n",
      "  0.17750368  0.14171834 -0.0474168   0.12206173  0.0007008   0.10065175\n",
      "  0.07567892 -0.0499872   0.16194765  0.10151526 -0.06557727  0.17383423\n",
      " -0.10085954  0.05116187  0.08073473  0.05896448  0.02767054  0.09427312\n",
      "  0.01720937  0.27111387  0.28785664  0.09366118  0.15188423  0.23884605\n",
      "  0.13892089  0.19295425  0.12275013  0.0759124   0.07967367  0.10174058\n",
      "  0.07043136  0.01976597  0.11593094  0.23843942  0.30683029  0.09411579\n",
      "  0.28786805  0.01822281 -0.0380356   0.07411592  0.1631496   0.1457343\n",
      "  0.14797834  0.15365132  0.24305524  0.11776202  0.11130231 -0.15794564\n",
      "  0.06911965  0.1313633  -0.04153833 -0.00045819  0.24136748  0.09819131\n",
      "  0.15385717 -0.04851778  0.1910043   0.23245645]\n",
      "the final xk for IGD_wo_task3 is: [ 0.31195058  0.04911367  0.17659403  0.11108025  0.02897053  0.07288677\n",
      "  0.19177721  0.22552186  0.0518031   0.04614241  0.09581854  0.08724923\n",
      "  0.0851027  -0.00950782  0.0007968   0.19101047  0.04891639 -0.00676822\n",
      "  0.10122088  0.21065256  0.10795607  0.1425083  -0.01484732  0.02938497\n",
      "  0.16809643  0.04253828  0.04283094  0.15156919  0.1585335   0.22468687\n",
      "  0.09061697  0.15523235  0.17310994  0.02489787  0.02821978  0.10685829\n",
      "  0.23770903  0.25124311  0.11890823 -0.08768827  0.05899851  0.00513608\n",
      "  0.17300113  0.13806301  0.01141304  0.14911063  0.0038108   0.14363399\n",
      "  0.1347652   0.03768733  0.22967903  0.03195249  0.02764501  0.10197214\n",
      "  0.04540099  0.10825465  0.06116868  0.02002358  0.03811001  0.06100514\n",
      "  0.06969287  0.15090031  0.27492228  0.13242309  0.09039658  0.2546095\n",
      "  0.08987078  0.21252952  0.12336571  0.07040466  0.09686898  0.03801218\n",
      "  0.08697109 -0.01182847  0.119818    0.22684379  0.1260378   0.03393983\n",
      "  0.19956862  0.07163923  0.03846266  0.01883001  0.15946229  0.20567719\n",
      "  0.20093877  0.10836732  0.20332714  0.2016109   0.02411445 -0.06417345\n",
      "  0.13051413  0.18331112 -0.04278419  0.000737    0.21110733  0.19311834\n",
      "  0.06520908 -0.00820976  0.18056113  0.1263597 ]\n"
     ]
    },
    {
     "data": {
      "image/png": "[encoded data removed]",
      "text/plain": [
       "<Figure size 432x288 with 1 Axes>"
      ]
     },
     "metadata": {
      "needs_background": "light"
     },
     "output_type": "display_data"
    }
   ],
   "source": [
    "import matplotlib.pyplot as plt\n",
    "x_trainr, objr = IGD_wr_task3(y, A)\n",
    "x_traino, objo = IGD_wo_task3(y, A)\n",
    "print('the final xk for IGD_wr_task3 is: {}'.format(x_trainr))\n",
    "print('the final xk for IGD_wo_task3 is: {}'.format(x_traino))\n",
    "plt.plot([i for i in range(A.shape[0])], objr, c='blue', label='with replacement')\n",
    "plt.plot([i for i in range(A.shape[0])], objo, c='red', label = 'without replacement')\n",
    "plt.xlabel(\"number of iterations\")\n",
    "plt.ylabel(\"least square objective function\")\n",
    "plt.legend(loc='upper left')\n",
    "plt.show()"
   ]
  },
  {
   "cell_type": "markdown",
   "metadata": {
    "id": "ydw0_3pPOpfr"
   },
   "source": [
    "As we can see the without replacement converges faster. (Has a lower objective). Now we plot the norm of the residue:\n"
   ]
  },
  {
   "cell_type": "code",
   "execution_count": 21,
   "metadata": {
    "colab": {
     "base_uri": "https://localhost:8080/",
     "height": 857
    },
    "id": "bB0rWqdeNYix",
    "outputId": "5e0d175f-b345-41e9-faa7-b5f3b4390943"
   },
   "outputs": [
    {
     "name": "stdout",
     "output_type": "stream",
     "text": [
      "the final xk for IGD_wr_task3 is: [ 0.2475611   0.08037733  0.12197711  0.17278864 -0.00916133  0.05137129\n",
      "  0.13235699  0.28730322 -0.05236378 -0.03234567  0.09568906  0.04677353\n",
      "  0.05687974 -0.00541696 -0.07538964  0.18315267  0.08990696 -0.00433617\n",
      "  0.09681444  0.11971774  0.10559269  0.17165954 -0.14843215 -0.00952023\n",
      "  0.17671413  0.00155255 -0.0107128   0.08969394  0.15357923  0.22234069\n",
      "  0.13954913  0.13890441  0.11320167  0.0570728   0.024729    0.12737883\n",
      "  0.27076863  0.30844082  0.1501362  -0.08638074  0.1070381   0.08086616\n",
      "  0.23784577  0.08225528 -0.01975404  0.15033364  0.08636307  0.18290292\n",
      "  0.21433363 -0.02184149  0.12822222  0.1773009   0.02483738  0.09618112\n",
      "  0.04814551  0.10188734 -0.07266555  0.1161105  -0.01449462  0.15802037\n",
      "  0.08043787 -0.03013056  0.27684608  0.0867418   0.08717328  0.19579855\n",
      " -0.03031879  0.08825789  0.09273777  0.15561252  0.14383139  0.09054507\n",
      "  0.04912059  0.01443245  0.09681144  0.23528531  0.11885075 -0.01587288\n",
      "  0.17978348 -0.00389658 -0.08708086  0.00571205  0.22395886  0.17302414\n",
      "  0.17849931  0.04309465  0.20760381  0.18455812 -0.01504202 -0.02657011\n",
      "  0.11515046  0.24051717 -0.01717856 -0.01276706  0.21178494  0.03141911\n",
      "  0.0880708  -0.07435542  0.11968515  0.11498273]\n",
      "the final xk for IGD_wo_task3 is: [ 0.31899948  0.06204149  0.18465012  0.10548922  0.03053933  0.06422632\n",
      "  0.19819661  0.22586196  0.04113284  0.03589067  0.0952781   0.0829254\n",
      "  0.08710361 -0.02132338  0.00348127  0.20215877  0.04470685 -0.00267708\n",
      "  0.09637498  0.19908294  0.11093365  0.15061552 -0.01833105  0.02931728\n",
      "  0.15515203  0.04368093  0.04181157  0.14601323  0.16125553  0.23327174\n",
      "  0.10059022  0.15064253  0.18571     0.02894208  0.0248154   0.10627032\n",
      "  0.23497632  0.2512025   0.11180948 -0.08853326  0.05832586  0.02136133\n",
      "  0.17713431  0.12734465  0.00423774  0.16208716  0.01091624  0.1325059\n",
      "  0.12650852  0.04608124  0.23716922  0.03392278  0.02963841  0.09848721\n",
      "  0.04527836  0.11263228  0.05283128  0.03157629  0.02461133  0.05000351\n",
      "  0.0613245   0.15774365  0.26496841  0.1366046   0.10330041  0.26176578\n",
      "  0.10070356  0.20395767  0.12382976  0.0680783   0.08882572  0.02903967\n",
      "  0.09304274 -0.01080831  0.11848574  0.22122577  0.13057905  0.03134274\n",
      "  0.20179927  0.07510583  0.02636077  0.00967231  0.15917979  0.21228813\n",
      "  0.21552532  0.1174172   0.20636129  0.20051106  0.01321424 -0.06665473\n",
      "  0.13519176  0.18579976 -0.05143792 -0.00050128  0.20411315  0.19564789\n",
      "  0.06356489 -0.0098208   0.17278824  0.13771427]\n"
     ]
    },
    {
     "data": {
      "image/png": "[encoded data removed]",
      "text/plain": [
       "<Figure size 432x288 with 1 Axes>"
      ]
     },
     "metadata": {
      "needs_background": "light"
     },
     "output_type": "display_data"
    }
   ],
   "source": [
    "from numpy import linalg as LA\n",
    "def IGD_wr_task3(y, A, xstar):\n",
    "    # implement the algorithm's iteration of IGD. Your result should return the the final xk\n",
    "    # at the last iteration and also the history of objective function at each xk.\n",
    "    obj = []\n",
    "    m = A.shape[0]\n",
    "    n = A.shape[1] \n",
    "    x = np.zeros(n)\n",
    "    ordering = np.random.choice(m, m, replace=True)\n",
    "    for i in range(m):\n",
    "      obj.append(LA.norm(xstar-x))\n",
    "      x = x -0.001*(A[ordering[i]]@x - y[ordering[i]])*A[ordering[i]]\n",
    "    return x, obj\n",
    "\n",
    "\n",
    "# IGD, the ordering is not permitted to have replacement.\n",
    "#\n",
    "#\n",
    "def IGD_wo_task3(y, A, xstar):\n",
    "    # implement the algorithm's iteration of IGD. Your result should return the the final xk\n",
    "    # at the last iteration and also the history of objective function at each xk.\n",
    "    obj = []\n",
    "    m = A.shape[0]\n",
    "    n = A.shape[1] \n",
    "    x = np.zeros(n)\n",
    "    ordering = np.random.choice(m, m, replace=False)\n",
    "    for i in range(m):\n",
    "      obj.append(LA.norm(xstar-x))\n",
    "      x = x -0.001*(A[ordering[i]]@x - y[ordering[i]])*A[ordering[i]]\n",
    "    return x, obj\n",
    "x_trainr, objr = IGD_wr_task3(y, A, xstar)\n",
    "x_traino, objo = IGD_wo_task3(y, A, xstar)\n",
    "print('the final xk for IGD_wr_task3 is: {}'.format(x_trainr))\n",
    "print('the final xk for IGD_wo_task3 is: {}'.format(x_traino))\n",
    "plt.plot([i for i in range(A.shape[0])], objr, c='blue', label='with replacement')\n",
    "plt.plot([i for i in range(A.shape[0])], objo, c='red', label = 'without replacement')\n",
    "plt.xlabel(\"number of iterations\")\n",
    "plt.ylabel(\"least square objective function\")\n",
    "plt.legend(loc='upper left')\n",
    "plt.show()"
   ]
  },
  {
   "cell_type": "markdown",
   "metadata": {
    "id": "eI6Xt0HyPtg3"
   },
   "source": [
    "### Conclusion\n",
    "\n",
    "As we can see, the without replacement has a faster convergence residue norm."
   ]
  }
 ],
 "metadata": {
  "colab": {
   "collapsed_sections": [],
   "name": "Copy of Ordering of Randomized Optimization.ipynb",
   "provenance": [],
   "toc_visible": true
  },
  "kernelspec": {
   "display_name": "Python 3",
   "language": "python",
   "name": "python3"
  },
  "language_info": {
   "codemirror_mode": {
    "name": "ipython",
    "version": 3
   },
   "file_extension": ".py",
   "mimetype": "text/x-python",
   "name": "python",
   "nbconvert_exporter": "python",
   "pygments_lexer": "ipython3",
   "version": "3.8.3"
  }
 },
 "nbformat": 4,
 "nbformat_minor": 1
}
