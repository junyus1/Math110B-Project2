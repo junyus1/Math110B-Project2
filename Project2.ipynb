{
 "cells": [
  {
   "cell_type": "markdown",
   "metadata": {
    "id": "_LtDgJBs0C9d"
   },
   "source": [
    "## First things first\n",
    "We review the gradient descent method learned in last quarter, for minimization of $f(x)$, the Gradient Descent (GD) iteration is \n",
    "$$x_{k+1} = x_k - \\alpha_k \\nabla f(x_k)$$\n",
    "with $\\alpha_k$ the chosen step length, usually a backtracking type loop is associated for the choice of $\\alpha_k$. \n",
    "\n"
   ]
  },
  {
   "cell_type": "markdown",
   "metadata": {
    "id": "9f2jq6a-0qhc"
   },
   "source": [
    "## Incremental GD\n",
    "There are some variants of GD, like coordinate gradient descent or the stochastic gradient descent. Here we focus on the IGD: incremental GD, it is similar to the coordinate GD, which is dealing with something local and then deal with something else later. \n",
    "\n",
    "Suppose the problem is:\n",
    "$$\\min_x f(x) := \\sum_{i=1}^m f_i(x)$$\n",
    "the objective function is the summation of a few other objective functions. This is quite normal in real life applications. Especially the statistics and imaging science. \n",
    "\n",
    "The IGD is dealing with one of the $f_i$ with GD and then deal with others in similar manner. Suppose we have fixed an ordering $i_0, i_1, i_2, \\dots, i_k,\\dots$, this ordering is infinite or finite, the numbers are just sampled from $\\{ 1,2,\\dots, m\\}$, basically telling you an order of $f_i$ to deal with. During each iteration, we update $x_k$ by\n",
    "\n",
    "$$x_{k+1} = x_{k} - \\gamma_k \\nabla f_{i_k}(x_{k})$$\n",
    "where $\\gamma_k$ is the step length.  \n",
    "\n",
    "When the ordering is sampled uniformly from $\\{ 1,2,\\dots, m\\}$, then this method becomes **Stochastic GD**. But the ordering could be other kind or distribution, even deterministic, we will mainly focus on select a better strategy for the ordering."
   ]
  },
  {
   "cell_type": "markdown",
   "metadata": {
    "id": "-b9lGznZDwSD"
   },
   "source": [
    "## Implementation Task 1\n",
    "\n",
    "This task comes from the Section 2.1 of the reference paper.\n",
    "\n",
    "We implement the 1D example of least square problem for the IGD. Then problem is given by \n",
    "\n",
    "$$\\min_x \\frac{1}{2}\\sum_{i=1}^n (x- y_i)^2$$\n",
    "where $y_i$ is a sequence of scalars sampled with certain given mean value $\\mu$ and variance $\\sigma^2$. Following the above method, the iteration will be\n",
    "$$x_{k+1} =x_k -\\gamma_k (x_{k} - y_{i_k})$$\n",
    "where $y_{i_k}$ comes from the selected ordering.  \n",
    "\n",
    "In the first task, you need to implement the following functions. "
   ]
  },
  {
   "cell_type": "markdown",
   "metadata": {
    "id": "SUfiwv22qUma"
   },
   "source": [
    "# Random or not so random?\n",
    "\n",
    "In the project, you will study the optimization algorithms related to the randomization. For a group of random algorithms, the randomness could be improved through certain strategy. The reference for this project comes from https://arxiv.org/pdf/1202.4184.pdf . \n",
    "\n",
    "The mathematical problem discussed in the above paper is quite simple, however it provides some insights for data science, especially for linear problems. The conjecture in the paper is still an open problem in general."
   ]
  },
  {
   "cell_type": "code",
   "execution_count": 1,
   "metadata": {
    "id": "RvnjT762FadE"
   },
   "outputs": [],
   "source": [
    "# generate a vector of random numbers which obeys the given distribution.\n",
    "#\n",
    "# n: length of the vector\n",
    "# mu: mean value\n",
    "# sigma: standard deviation.\n",
    "# dist: choices for the distribution, you need to implement at least normal \n",
    "#       distribution and uniform distribution.\n",
    "#\n",
    "# For normal distribution, you can use ``numpy.random.normal`` to generate.\n",
    "# For uniform distribution, the interval to sample will be [mu - sigma/sqrt(3), mu + sigma/sqrt(3)].\n",
    "\n",
    "import numpy as np\n",
    "from math import sqrt\n",
    "def generate_random_numbers(n, mu, sigma, dist=\"normal\"):\n",
    "    # write your code here.\n",
    "    if dist == \"normal\":\n",
    "        return np.random.normal(mu, sigma, n)\n",
    "    elif dist == \"uniform\":\n",
    "        # write your code here.\n",
    "        return np.random.uniform(mu-sigma/sqrt(3), mu+sigma/sqrt(3), n)\n",
    "    else:\n",
    "        raise Exception(\"The distribution {unknown_dist} is not implemented\".format(unknown_dist=dist))\n",
    "        \n",
    "        \n",
    "# test your code:\n",
    "y_test = generate_random_numbers(5, 0, 0.1, \"normal\")"
   ]
  },
  {
   "cell_type": "markdown",
   "metadata": {
    "id": "MdytKKS9Iyd6"
   },
   "source": [
    "### Settings of the minimization problems\n",
    "Now you will setup the problem with a sampling of $y$ vector with the following two different settings:\n",
    "```\n",
    "n, mu, sigma, dist = 105, 0.5, 1.0, \"normal\"\n",
    "```\n",
    "and \n",
    "```\n",
    "n, mu, sigma, dist = 105, 0.5, 1.0, \"uniform\"\n",
    "```\n",
    "Your initial guess will be $x_0 = 0$ for both cases. The step length is taking the diminishing factor $\\gamma_k = \\frac{1}{k+1}$."
   ]
  },
  {
   "cell_type": "code",
   "execution_count": 2,
   "metadata": {
    "id": "dZQTddxHPIBB"
   },
   "outputs": [],
   "source": [
    "y1 = generate_random_numbers(105, 0.5, 1.0, \"normal\")\n",
    "y2 = generate_random_numbers(105, 0.5, 1.0, \"uniform\")"
   ]
  },
  {
   "cell_type": "markdown",
   "metadata": {
    "id": "y2r5QCRCKfql"
   },
   "source": [
    "### Two orderings to experiment with\n",
    "\n",
    "1. Random ordering with replacement\n",
    "In this case, we do not choose the fixed ordering, we sample a number in $\\{1,2,\\dots, n \\}$ each time and follow the iteration.\n",
    "\n",
    "2. Random ordering without replacement\n",
    "In this case, we do not choose the fixed ordering, we sample an ordering without replacement from $\\{1,2,\\dots, n\\}$ and then follow the iteration."
   ]
  },
  {
   "cell_type": "code",
   "execution_count": 3,
   "metadata": {
    "id": "G-BDbTsMPT7I"
   },
   "outputs": [],
   "source": [
    "# IGD, the ordering is permitted to have replacement. \n",
    "#\n",
    "#\n",
    "def IGD_wr_task1(y):\n",
    "    n = len(y)\n",
    "    ordering = np.random.choice(n, n, replace=True)\n",
    "    # implement the algorithm's iteration of IGD. Your result should return the the final xk\n",
    "    # at the last iteration and also the history of objective function at each xk.\n",
    "    obj = []\n",
    "    cur_obj = 0 \n",
    "    x = 0\n",
    "    \n",
    "    for i in range(n):\n",
    "      cur_obj = cur_obj + 0.5*(x-y[ordering[i]])**2\n",
    "      x = x -(x-y[ordering[i]])/(i+1)\n",
    "      obj.append(cur_obj)                          \n",
    "    return x, obj\n",
    "\n",
    "\n",
    "\n",
    "# IGD, the ordering is not permitted to have replacement.\n",
    "#\n",
    "#\n",
    "def IGD_wo_task1(y):\n",
    "    n = len(y)\n",
    "    ordering = np.random.choice(n, n, replace=False)\n",
    "    # implement the algorithm's iteration of IGD. Your result should return the the final xk\n",
    "    # at the last iteration and also the history of objective function at each xk.\n",
    "    obj = []\n",
    "    cur_obj = 0 \n",
    "    x = 0\n",
    "    \n",
    "    for i in range(n):\n",
    "      cur_obj = cur_obj + 0.5*(x-y[ordering[i]])**2\n",
    "      x = x -(x-y[ordering[i]])/(i+1)\n",
    "      obj.append(cur_obj)                          \n",
    "    return x, obj"
   ]
  },
  {
   "cell_type": "markdown",
   "metadata": {
    "id": "06UQih7YWvN8"
   },
   "source": [
    "### Your results to present\n",
    "Show your results by plotting two figures. For each cases of the above two settings, you need to plot the histories (``IGD_wr_task1`` and ``IGD_wo_task1``) of objective functions in the same figure. \n",
    "\n",
    "Conclude which strategy is better from the results. \n",
    "\n",
    "Briefly prove the ``IGD_wo_task1`` must converge to the true solution (mean value of ``y``). You can calculate first a few values of $x_k$ by hand to see why."
   ]
  },
  {
   "cell_type": "markdown",
   "metadata": {
    "id": "gPIwU49fRBi_"
   },
   "source": [
    "Firstly, we prove that ``IGD_wo_task1`` must converge to the true solution (mean value of ``y``). Note if taken without replacement and start from $$x_0=0$$, we have $$x_k = \\frac{1}{n}\\sum_{i=1}^n y_{ik}$$\n",
    "And by central limit theorem, $\\frac{1}{n}\\sum_{i=1}^n y_{ik}$ converges to $\\mu$ as n approaches infinity"
   ]
  },
  {
   "cell_type": "code",
   "execution_count": 4,
   "metadata": {
    "colab": {
     "base_uri": "https://localhost:8080/",
     "height": 313
    },
    "id": "FAYdXFgsbC82",
    "outputId": "150809b4-0f08-4cfa-dc27-670e83a9517d"
   },
   "outputs": [
    {
     "name": "stdout",
     "output_type": "stream",
     "text": [
      "the final xk for IGD_wr_task1 on y1 is: 0.46593736031634536\n",
      "the final xk for IGD_wo_task1 on y1 is: 0.4829131759877189\n"
     ]
    },
    {
     "data": {
      "image/png": "[encoded data removed]",
      "text/plain": [
       "<Figure size 432x288 with 1 Axes>"
      ]
     },
     "metadata": {
      "needs_background": "light"
     },
     "output_type": "display_data"
    }
   ],
   "source": [
    "import matplotlib.pyplot as plt\n",
    "# plot normal distribution\n",
    "xkr1, objr1 = IGD_wr_task1(y1)\n",
    "xko1, objo1 = IGD_wo_task1(y1)\n",
    "print('the final xk for IGD_wr_task1 on y1 is: {}'.format(xkr1))\n",
    "print('the final xk for IGD_wo_task1 on y1 is: {}'.format(xko1))\n",
    "plt.plot([i for i in range(len(y1))], objr1, c='blue', label='with replacement')\n",
    "plt.plot([i for i in range(len(y1))], objo1, c='red', label = 'without replacement')\n",
    "plt.xlabel(\"number of iterations\")\n",
    "plt.ylabel(\"least square objective function\")\n",
    "plt.legend(loc='upper left')\n",
    "plt.show()\n",
    "\n"
   ]
  },
  {
   "cell_type": "markdown",
   "metadata": {
    "id": "ppsPReHH_PB9"
   },
   "source": [
    "From the above graph, we can see that without replacement converges faster. Note that we did not divide n, the number of iterations, in our objective function, so the objective function seems increasing. "
   ]
  },
  {
   "cell_type": "code",
   "execution_count": 6,
   "metadata": {
    "colab": {
     "base_uri": "https://localhost:8080/",
     "height": 314
    },
    "id": "zSCePGX_AQJg",
    "outputId": "a696b8be-01fc-443f-8882-36919cdb868f"
   },
   "outputs": [
    {
     "name": "stdout",
     "output_type": "stream",
     "text": [
      "the final xk for IGD_wr_task1 on y2 is: 0.538209908152975\n",
      "the final xk for IGD_wo_task1 on y2 is: 0.49097846303901627\n"
     ]
    },
    {
     "data": {
      "image/png": "[encoded data removed]",
      "text/plain": [
       "<Figure size 432x288 with 1 Axes>"
      ]
     },
     "metadata": {
      "needs_background": "light"
     },
     "output_type": "display_data"
    }
   ],
   "source": [
    "import matplotlib.pyplot as plt\n",
    "# plot uniform distribution\n",
    "xkr2, objr2 = IGD_wr_task1(y2)\n",
    "xko2, objo2 = IGD_wo_task1(y2)\n",
    "print('the final xk for IGD_wr_task1 on y2 is: {}'.format(xkr2))\n",
    "print('the final xk for IGD_wo_task1 on y2 is: {}'.format(xko2))\n",
    "plt.plot([i for i in range(len(y2))], objr2, c='blue', label='with replacement')\n",
    "plt.plot([i for i in range(len(y2))], objo2, c='red', label = 'without replacement')\n",
    "plt.xlabel(\"number of iterations\")\n",
    "plt.ylabel(\"least square objective function\")\n",
    "plt.legend(loc='upper left')\n",
    "plt.show()"
   ]
  },
  {
   "cell_type": "markdown",
   "metadata": {
    "id": "kBqjM1ZKA-aC"
   },
   "source": [
    "### Conclusion\n",
    "Again, we can see that without replacement converges faster."
   ]
  },
  {
   "cell_type": "markdown",
   "metadata": {
    "id": "QdgVbXHHXe8-"
   },
   "source": [
    "## Implementation Task 2\n",
    "\n",
    "This task comes from the Section 2.1 of the reference paper as well. \n",
    "\n",
    "Instead of the problem in Task 1, we consider another problem, which is quite simple.\n",
    "\n",
    "$$\\min_x \\frac{1}{2}\\sum_{i=1}^n \\beta_i (x - y)^2$$\n",
    "here $\\beta_i$ are positive weights, $y$ is a scalar. Clearly the minimum is at $x = y$. We try to use the IGD to solve the problem. \n",
    "\n",
    "$$x_{k+1} = x_k - \\gamma_k \\beta_{i_k} (x_k - y)$$\n",
    "\n",
    "where $\\gamma_k\\equiv \\gamma = 0.95 \\min \\beta_i^{-1}$. For simplicity, the $\\beta_i$ are sampled uniformly between $[1,2]$. Your task2 is the same as the task1,  use two kinds of ordering to solve the problem and compare the results through figures."
   ]
  },
  {
   "cell_type": "code",
   "execution_count": 7,
   "metadata": {
    "id": "MGc2gHijps0F"
   },
   "outputs": [],
   "source": [
    "# IGD, the ordering is permitted to have replacement. \n",
    "#\n",
    "#\n",
    "import random\n",
    "def IGD_wr_task2(beta, y=0.5):\n",
    "    n = len(beta)\n",
    "    ordering = np.random.choice(n, n, replace=True)\n",
    "    # implement the algorithm's iteration of IGD. Your result should return the the final xk\n",
    "    # at the last iteration and also the history of objective function at each xk.\n",
    "    obj = []\n",
    "    cur_obj = 0 \n",
    "    x = 0\n",
    "    for i in range(n):\n",
    "      cur_obj = cur_obj + 0.5*beta[ordering[i]]*(x-y)**2\n",
    "      x = x -beta[ordering[i]]*(x-y)*0.95\n",
    "      obj.append(cur_obj)                          \n",
    "    return x, obj\n",
    "\n",
    "\n",
    "# IGD, the ordering is not permitted to have replacement.\n",
    "#\n",
    "#\n",
    "def IGD_wo_task2(beta, y=0.5):\n",
    "    n = len(beta)\n",
    "    ordering = np.random.choice(n, n, replace=False)\n",
    "    # implement the algorithm's iteration of IGD. Your result should return the the final xk\n",
    "    # at the last iteration and also the history of objective function at each xk.\n",
    "    obj = []\n",
    "    cur_obj = 0 \n",
    "    x = 0\n",
    "    for i in range(n):\n",
    "      cur_obj = cur_obj + 0.5*beta[ordering[i]]*(x-y)**2\n",
    "      x = x -beta[ordering[i]]*(x-y)*0.95\n",
    "      obj.append(cur_obj)                          \n",
    "    return x, obj"
   ]
  },
  {
   "cell_type": "markdown",
   "metadata": {
    "id": "UET_B4Usqy7e"
   },
   "source": [
    "### Your results to present\n",
    "Show your results by plotting two figures. For each cases of the above two settings, you need to plot the histories (``IGD_wr_task2`` and ``IGD_wo_task2``) of objective functions in the same figure. \n",
    "\n",
    "Conclude which strategy is better from the results. "
   ]
  },
  {
   "cell_type": "code",
   "execution_count": 11,
   "metadata": {
    "colab": {
     "base_uri": "https://localhost:8080/",
     "height": 313
    },
    "id": "tftp430_GcRb",
    "outputId": "7376414f-cafd-44fa-be2a-60df51e08fec"
   },
   "outputs": [
    {
     "name": "stdout",
     "output_type": "stream",
     "text": [
      "the final xk for IGD_wr_task2 on beta is: 0.506523828117854\n",
      "the final xk for IGD_wo_task2 on beta is: 0.4997182705143584\n"
     ]
    },
    {
     "data": {
      "image/png": "[encoded data removed]",
      "text/plain": [
       "<Figure size 432x288 with 1 Axes>"
      ]
     },
     "metadata": {
      "needs_background": "light"
     },
     "output_type": "display_data"
    }
   ],
   "source": [
    "beta = generate_random_numbers(10, 1, 2, \"uniform\")\n",
    "import matplotlib.pyplot as plt\n",
    "xkr3, objr3 = IGD_wr_task2(beta)\n",
    "xko3, objo3 = IGD_wo_task2(beta)\n",
    "print('the final xk for IGD_wr_task2 on beta is: {}'.format(xkr3))\n",
    "print('the final xk for IGD_wo_task2 on beta is: {}'.format(xko3))\n",
    "plt.plot([i for i in range(len(beta))], objr3, c='blue', label='with replacement')\n",
    "plt.plot([i for i in range(len(beta))], objo3, c='red', label = 'without replacement')\n",
    "plt.xlabel(\"number of iterations\")\n",
    "plt.ylabel(\"least square objective function\")\n",
    "plt.legend(loc='upper left')\n",
    "plt.show()\n"
   ]
  },
  {
   "cell_type": "markdown",
   "metadata": {
    "id": "sSO_I1V2IAu1"
   },
   "source": [
    "### Conclusion\n",
    "\n",
    "As we can see without replacement converges faster. Also we point out some error in the skeleton code, since we are sampling beta and treat y as scalar constant, we really should take beta array as input instead of y array in the function IGD_wr_task2 and IGD_wo_task2"
   ]
  },
  {
   "cell_type": "markdown",
   "metadata": {
    "id": "4FZfrQ0wrNvH"
   },
   "source": [
    "## Implementation Task 3\n",
    "\n",
    "Now instead of 1D problem considered in above two tasks, we will consider the general case in higher dimensions, we study the least square problem to find solution of \n",
    "$$Ax = y$$\n",
    "where $A$ is an $m\\times n$ matrix and $x$ is a vector in $\\mathbb{R}^n$. In most cases, $m \\ge n$ which means the measurement is redundant for this linear model.  We denote the $i$th column $A^T$ as $a_i$ (namely the $i$th row of $A$ transposed), then we are minimizing\n",
    "\n",
    "$$\\min_x \\sum_{i=1}^m (a_i^T x - y_i)^2$$\n",
    "each $a_i\\in\\mathbb{R}^n$. \n",
    "\n",
    "And using IGD to minimize above problem with certain ordering. The step size $\\gamma$ is  taken as a fixed constant, say $10^{-3}$, which is a common value for GD. \n",
    "\n",
    "Each iteration will be \n",
    "\n",
    "$$x_{k+1} = x_k - \\gamma a_{i_k} (a_{i_k}^T x_{k} - y_{i_k})$$\n",
    "\n",
    "Your initial guess is still all zeros vector. \n"
   ]
  },
  {
   "cell_type": "markdown",
   "metadata": {
    "id": "jevXn5siy2lq"
   },
   "source": [
    "### Generation of $y$\n",
    "The $y$ vector is generated by taking the following form\n",
    "$$y_i = a_i^T x^{\\ast} + w_i$$\n",
    "where $w_i$ obeys normal distribution of zero mean and variance of $\\rho^2$, here $\\rho = 10^{-2}$. "
   ]
  },
  {
   "cell_type": "code",
   "execution_count": 12,
   "metadata": {
    "id": "m4dVvD5czPTP"
   },
   "outputs": [],
   "source": [
    "# generation of exact solution and data y and matrix A.\n",
    "\n",
    "def generate_problem_task3(m, n, rho):\n",
    "    A = np.random.normal(0., 1.0, (m, n))\n",
    "    x = np.random.random(n) # uniform in (0,1)\n",
    "    w = np.random.normal(0., rho, m)\n",
    "    y = A@x + w\n",
    "    return A, x, y"
   ]
  },
  {
   "cell_type": "code",
   "execution_count": 13,
   "metadata": {
    "id": "xit131efzd09"
   },
   "outputs": [],
   "source": [
    "# We generate the problem with 200x100 matrix. rho as 0.01.\n",
    "#\n",
    "A, xstar, y = generate_problem_task3(200, 100, 0.01)"
   ]
  },
  {
   "cell_type": "code",
   "execution_count": 73,
   "metadata": {
    "id": "l1Nqy2TFLTy7"
   },
   "outputs": [],
   "source": []
  },
  {
   "cell_type": "code",
   "execution_count": 14,
   "metadata": {
    "id": "JmrxUfiHCacQ"
   },
   "outputs": [],
   "source": [
    "# In these two functions, we could only focus on the first n steps and try to make comparisons on these data only.\n",
    "# In practice, it requires more iterations to converge, due to the matrix might not be easy to deal with.\n",
    "# You can put the ordering loop into a naive loop: namely, we simply perform the IGD code several rounds.\n",
    "#\n",
    "#\n",
    "#\n",
    "# IGD, the ordering is permitted to have replacement. \n",
    "#\n",
    "#\n",
    "def IGD_wr_task3(y, A):\n",
    "    # implement the algorithm's iteration of IGD. Your result should return the the final xk\n",
    "    # at the last iteration and also the history of objective function at each xk.\n",
    "    obj = []\n",
    "    cur_obj = 0\n",
    "    m = A.shape[0]\n",
    "    n = A.shape[1] \n",
    "    x = np.zeros(n)\n",
    "    ordering = np.random.choice(m, m, replace=True)\n",
    "    for i in range(m):\n",
    "      cur_obj = cur_obj + (A[ordering[i]]@x - y[ordering[i]])**2\n",
    "      x = x -0.001*(A[ordering[i]]@x - y[ordering[i]])*A[ordering[i]]\n",
    "      obj.append(cur_obj)                          \n",
    "    return x, obj\n",
    "\n",
    "\n",
    "# IGD, the ordering is not permitted to have replacement.\n",
    "#\n",
    "#\n",
    "def IGD_wo_task3(y, A):\n",
    "    # implement the algorithm's iteration of IGD. Your result should return the the final xk\n",
    "    # at the last iteration and also the history of objective function at each xk.\n",
    "    obj = []\n",
    "    cur_obj = 0\n",
    "    m = A.shape[0]\n",
    "    n = A.shape[1] \n",
    "    x = np.zeros(n)\n",
    "    ordering = np.random.choice(m, m, replace=False)\n",
    "    for i in range(m):\n",
    "      cur_obj = cur_obj + (A[ordering[i]]@x - y[ordering[i]])**2\n",
    "      x = x -0.001*(A[ordering[i]]@x - y[ordering[i]])*A[ordering[i]]\n",
    "      obj.append(cur_obj)                          \n",
    "    return x, obj"
   ]
  },
  {
   "cell_type": "markdown",
   "metadata": {
    "id": "CJ9-S1GZFiVJ"
   },
   "source": [
    "### Your results to present\n",
    "Show your results by plotting two figures. For each cases of the above two settings, you need to plot the histories (``IGD_wr_task3`` and ``IGD_wo_task3``) of objective functions in the same figure.  \n",
    "\n",
    "Then change your code to plot the histories of $\\|x_k - x^{\\ast }\\|$ and compare the results about the convergences.\n",
    "\n",
    "Conclude which strategy is better from the results. "
   ]
  },
  {
   "cell_type": "code",
   "execution_count": 15,
   "metadata": {
    "colab": {
     "base_uri": "https://localhost:8080/",
     "height": 857
    },
    "id": "4Xd_QYrWMrY7",
    "outputId": "75aa3f6b-bae5-4776-ee93-15567087ef83"
   },
   "outputs": [
    {
     "name": "stdout",
     "output_type": "stream",
     "text": [
      "the final xk for IGD_wr_task3 is: [ 0.12340766 -0.00625118  0.23238967  0.1120262   0.09506212 -0.1468257\n",
      "  0.07069237  0.03618896  0.02003381  0.04543573  0.10153438 -0.03197977\n",
      "  0.07698739  0.15883766  0.19597754  0.15847036 -0.09013273  0.10847955\n",
      "  0.10348708  0.12823451  0.22357787  0.20114786  0.00641405  0.00286523\n",
      "  0.06735431  0.15130254  0.19406398  0.04081447  0.23969223  0.09128912\n",
      "  0.07851541  0.13948831 -0.01680464  0.00179738  0.18636123 -0.00318923\n",
      "  0.0901447   0.09446227  0.20988959 -0.00637705 -0.09354094  0.00231734\n",
      "  0.18806041  0.23205878  0.1015217   0.04831676  0.3282548   0.02644992\n",
      "  0.10101644 -0.22737296  0.07006123  0.12305081  0.11526876  0.18538964\n",
      "  0.15597596  0.27349636  0.01807846  0.10200571  0.241266    0.1228163\n",
      " -0.00594588 -0.06018827 -0.09658378  0.14566768  0.06365627  0.0325525\n",
      "  0.23123029  0.03741945  0.07498779  0.12025388  0.27561453 -0.0364012\n",
      "  0.11407173  0.06472491 -0.00779772  0.05740571 -0.04054173  0.19774932\n",
      "  0.08413879  0.20519625 -0.04814724 -0.05094736  0.02617775 -0.03259269\n",
      " -0.10678676 -0.07467413  0.01870571  0.02630102 -0.08611605  0.02293294\n",
      "  0.21259804 -0.01080596 -0.00182688  0.12796339  0.10868447  0.10606832\n",
      "  0.0281231   0.27494539  0.24857363 -0.03357697]\n",
      "the final xk for IGD_wo_task3 is: [ 3.26299286e-02  1.07323411e-01  1.73955820e-01  8.62518245e-02\n",
      "  1.68950230e-01 -5.16481931e-02  6.48969696e-02  8.71283004e-02\n",
      "  6.98258117e-03  1.65603951e-02  1.21370809e-01  3.76445315e-02\n",
      "  2.52873993e-02  1.38673507e-01  1.50437457e-01  1.66478179e-01\n",
      " -1.05282417e-02  1.79227273e-01  4.68233196e-02  1.20299225e-01\n",
      "  1.90930247e-01  1.59935514e-01  2.75198179e-02  4.13600951e-02\n",
      "  8.75053010e-02  1.32957902e-01  1.91269961e-01  6.39879811e-02\n",
      "  1.93335751e-01  7.29428041e-02  7.27752438e-02  5.53535457e-02\n",
      "  3.71195635e-02  4.32349706e-03  1.22083734e-01  1.04224277e-01\n",
      "  2.90640355e-02  4.94770240e-02  1.78930834e-01 -2.58747540e-02\n",
      " -9.34854108e-02 -4.95406724e-02  1.05646386e-01  1.03074869e-01\n",
      "  4.76972884e-02  9.04727451e-02  1.97801585e-01  7.01256417e-02\n",
      "  2.11537931e-01 -2.65296701e-02  6.92013063e-02  1.07058029e-01\n",
      "  1.33958272e-01  1.69792913e-01  5.67867591e-02  1.47090624e-01\n",
      "  4.98989043e-02  7.25548178e-02  1.68098719e-01  1.65660829e-01\n",
      "  6.78985777e-02 -3.07504439e-02 -1.27084688e-02  1.41520790e-01\n",
      " -4.58228217e-03  7.16613614e-02  1.26351590e-01  3.64479301e-02\n",
      "  7.23787013e-02  1.29756505e-01  1.99731735e-01 -2.74595527e-03\n",
      "  5.16081948e-02  8.93026964e-02  6.09212903e-02  6.41856433e-02\n",
      " -6.41149325e-02  1.95984539e-01  4.93163309e-02  1.20378600e-01\n",
      "  4.88511043e-03 -2.05599005e-02 -2.66022045e-02  3.92840775e-02\n",
      "  9.16957501e-03  1.01068382e-02  2.57967164e-02  6.20988153e-05\n",
      " -1.41787872e-01  3.75221494e-02  1.07318716e-01  2.63247335e-02\n",
      "  1.41840338e-03  1.04288370e-01  1.17430861e-01  9.42294296e-02\n",
      " -7.15747411e-02  1.89231224e-01  1.24936017e-01 -2.39467593e-02]\n"
     ]
    },
    {
     "data": {
      "image/png": "[encoded data removed]",
      "text/plain": [
       "<Figure size 432x288 with 1 Axes>"
      ]
     },
     "metadata": {
      "needs_background": "light"
     },
     "output_type": "display_data"
    }
   ],
   "source": [
    "import matplotlib.pyplot as plt\n",
    "x_trainr, objr = IGD_wr_task3(y, A)\n",
    "x_traino, objo = IGD_wo_task3(y, A)\n",
    "print('the final xk for IGD_wr_task3 is: {}'.format(x_trainr))\n",
    "print('the final xk for IGD_wo_task3 is: {}'.format(x_traino))\n",
    "plt.plot([i for i in range(A.shape[0])], objr, c='blue', label='with replacement')\n",
    "plt.plot([i for i in range(A.shape[0])], objo, c='red', label = 'without replacement')\n",
    "plt.xlabel(\"number of iterations\")\n",
    "plt.ylabel(\"least square objective function\")\n",
    "plt.legend(loc='upper left')\n",
    "plt.show()"
   ]
  },
  {
   "cell_type": "markdown",
   "metadata": {
    "id": "ydw0_3pPOpfr"
   },
   "source": [
    "As we can see the without replacement converges faster. (Has a lower objective). Now we plot the norm of the residue:\n"
   ]
  },
  {
   "cell_type": "code",
   "execution_count": 16,
   "metadata": {
    "colab": {
     "base_uri": "https://localhost:8080/",
     "height": 857
    },
    "id": "bB0rWqdeNYix",
    "outputId": "5e0d175f-b345-41e9-faa7-b5f3b4390943"
   },
   "outputs": [
    {
     "name": "stdout",
     "output_type": "stream",
     "text": [
      "the final xk for IGD_wr_task3 is: [-0.00877883  0.08707874  0.14482051  0.1124263   0.14647291 -0.07371789\n",
      "  0.10051232  0.02795944 -0.03308179 -0.02543756  0.03108648  0.10200872\n",
      " -0.01993128  0.15556887  0.06193673  0.16726723  0.05615821  0.18260143\n",
      "  0.03442975  0.24551075  0.08620877  0.15647177 -0.00479289  0.04460391\n",
      "  0.13129491  0.14305137  0.27203746  0.11462026  0.1843354   0.06384347\n",
      "  0.01570128  0.09057644  0.07812079 -0.02282091  0.02241835  0.16408396\n",
      "  0.04008669 -0.00296285  0.20528839  0.04837949 -0.10300033 -0.20235026\n",
      "  0.09813867  0.1428236   0.06030489  0.10854607  0.26901081  0.06041331\n",
      "  0.21502061  0.03296423  0.17437049  0.10989981  0.18067776  0.26123899\n",
      "  0.05883421  0.16530383 -0.00809313 -0.0291318   0.16462736  0.1083848\n",
      "  0.05258387  0.03820794 -0.02747939  0.15275728  0.07943673  0.16658764\n",
      "  0.1972291  -0.01052067  0.08713879  0.17429308  0.0993891   0.02615595\n",
      "  0.08001199  0.135891    0.07980421  0.12056083 -0.1024261   0.17710057\n",
      "  0.07566283  0.13020945 -0.01766226 -0.09710608 -0.03898661  0.08281826\n",
      "  0.02224627  0.05072889  0.02174641 -0.01557877 -0.11538855  0.11231573\n",
      "  0.15705162 -0.04092368  0.01503797  0.04947042  0.16204244  0.16423806\n",
      " -0.11464578  0.24425607  0.03493044 -0.07533798]\n",
      "the final xk for IGD_wo_task3 is: [ 0.03361964  0.10582112  0.16884833  0.08575985  0.16994014 -0.04221499\n",
      "  0.07100965  0.08966974  0.00844971  0.00818225  0.1235172   0.0439162\n",
      "  0.02732305  0.14487     0.1506727   0.15794719 -0.00807475  0.17827835\n",
      "  0.0385688   0.11668646  0.16916168  0.15141834  0.02443106  0.04531406\n",
      "  0.07548089  0.12753573  0.19504035  0.05862481  0.19306262  0.08881023\n",
      "  0.08079001  0.04319789  0.02640734  0.00578822  0.12458825  0.10712619\n",
      "  0.02201852  0.04967451  0.17676019 -0.02202773 -0.08789576 -0.05354229\n",
      "  0.1021764   0.09463891  0.057469    0.09328716  0.20091016  0.06794405\n",
      "  0.20807053 -0.02984638  0.06763341  0.12060612  0.13194455  0.16669665\n",
      "  0.05749521  0.14795564  0.06172343  0.07245846  0.15735866  0.16458217\n",
      "  0.06774495 -0.026922   -0.02188878  0.13995788  0.00636246  0.06466007\n",
      "  0.12070913  0.04382014  0.07227468  0.13956303  0.19993452 -0.00704655\n",
      "  0.06459073  0.08101943  0.06945117  0.06767929 -0.05836322  0.19672783\n",
      "  0.04594932  0.12431612  0.00177361 -0.0142992  -0.03183677  0.05515615\n",
      "  0.01160607  0.00388494  0.02750364  0.00221121 -0.14113653  0.04174946\n",
      "  0.1184134   0.01361522 -0.00182856  0.09837794  0.11776372  0.08655662\n",
      " -0.06306966  0.18992087  0.13448598 -0.01759286]\n"
     ]
    },
    {
     "data": {
      "image/png": "[encoded data removed]",
      "text/plain": [
       "<Figure size 432x288 with 1 Axes>"
      ]
     },
     "metadata": {
      "needs_background": "light"
     },
     "output_type": "display_data"
    }
   ],
   "source": [
    "from numpy import linalg as LA\n",
    "def IGD_wr_task3(y, A, xstar):\n",
    "    # implement the algorithm's iteration of IGD. Your result should return the the final xk\n",
    "    # at the last iteration and also the history of objective function at each xk.\n",
    "    obj = []\n",
    "    m = A.shape[0]\n",
    "    n = A.shape[1] \n",
    "    x = np.zeros(n)\n",
    "    ordering = np.random.choice(m, m, replace=True)\n",
    "    for i in range(m):\n",
    "      obj.append(LA.norm(xstar-x))\n",
    "      x = x -0.001*(A[ordering[i]]@x - y[ordering[i]])*A[ordering[i]]\n",
    "    return x, obj\n",
    "\n",
    "\n",
    "# IGD, the ordering is not permitted to have replacement.\n",
    "#\n",
    "#\n",
    "def IGD_wo_task3(y, A, xstar):\n",
    "    # implement the algorithm's iteration of IGD. Your result should return the the final xk\n",
    "    # at the last iteration and also the history of objective function at each xk.\n",
    "    obj = []\n",
    "    m = A.shape[0]\n",
    "    n = A.shape[1] \n",
    "    x = np.zeros(n)\n",
    "    ordering = np.random.choice(m, m, replace=False)\n",
    "    for i in range(m):\n",
    "      obj.append(LA.norm(xstar-x))\n",
    "      x = x -0.001*(A[ordering[i]]@x - y[ordering[i]])*A[ordering[i]]\n",
    "    return x, obj\n",
    "x_trainr, objr = IGD_wr_task3(y, A, xstar)\n",
    "x_traino, objo = IGD_wo_task3(y, A, xstar)\n",
    "print('the final xk for IGD_wr_task3 is: {}'.format(x_trainr))\n",
    "print('the final xk for IGD_wo_task3 is: {}'.format(x_traino))\n",
    "plt.plot([i for i in range(A.shape[0])], objr, c='blue', label='with replacement')\n",
    "plt.plot([i for i in range(A.shape[0])], objo, c='red', label = 'without replacement')\n",
    "plt.xlabel(\"number of iterations\")\n",
    "plt.ylabel(\"least square objective function\")\n",
    "plt.legend(loc='upper left')\n",
    "plt.show()"
   ]
  },
  {
   "cell_type": "markdown",
   "metadata": {
    "id": "eI6Xt0HyPtg3"
   },
   "source": [
    "### Conclusion\n",
    "\n",
    "As we can see, the without replacement has a faster convergence residue norm."
   ]
  },
  {
   "cell_type": "code",
   "execution_count": null,
   "metadata": {
    "id": "n0qMxNg1PyVk"
   },
   "outputs": [],
   "source": []
  }
 ],
 "metadata": {
  "colab": {
   "collapsed_sections": [],
   "name": "Copy of Ordering of Randomized Optimization.ipynb",
   "provenance": [],
   "toc_visible": true
  },
  "kernelspec": {
   "display_name": "Python 3",
   "language": "python",
   "name": "python3"
  },
  "language_info": {
   "codemirror_mode": {
    "name": "ipython",
    "version": 3
   },
   "file_extension": ".py",
   "mimetype": "text/x-python",
   "name": "python",
   "nbconvert_exporter": "python",
   "pygments_lexer": "ipython3",
   "version": "3.8.3"
  }
 },
 "nbformat": 4,
 "nbformat_minor": 1
}
